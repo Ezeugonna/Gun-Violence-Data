{
 "cells": [
  {
   "cell_type": "markdown",
   "id": "19f1636b-8c8d-497c-bf05-1fdc8007d26c",
   "metadata": {},
   "source": [
    "# 6.1 Sourcing Open Data: Gun Violence Data"
   ]
  },
  {
   "cell_type": "markdown",
   "id": "0d858685-d9a5-4ccf-b1ba-a75db0e99034",
   "metadata": {},
   "source": [
    "## Table of Contents"
   ]
  },
  {
   "cell_type": "markdown",
   "id": "fbd89cb2-f193-4dd1-8829-40043961a040",
   "metadata": {},
   "source": [
    "### Importing Libraries"
   ]
  },
  {
   "cell_type": "markdown",
   "id": "7e6ae2ea-1139-44bb-82cb-f0f5de963316",
   "metadata": {},
   "source": [
    "### Loading and inspecting Data"
   ]
  },
  {
   "cell_type": "markdown",
   "id": "b30c3846-2b89-4499-bf20-c7f73cd59b2f",
   "metadata": {},
   "source": [
    "### Data Consistency Check"
   ]
  },
  {
   "cell_type": "markdown",
   "id": "ccfca164-dfb0-43ce-8b90-f38a90d9cc56",
   "metadata": {},
   "source": [
    "### Replacing missing values with Mean imputation"
   ]
  },
  {
   "cell_type": "markdown",
   "id": "f047e85c-1235-4651-8d02-0f6dc135f58a",
   "metadata": {},
   "source": [
    "### Remove Duplicate Values"
   ]
  },
  {
   "cell_type": "markdown",
   "id": "4eed5ce7-1067-46f7-8d90-30365224487d",
   "metadata": {},
   "source": [
    "### Rechecking Missing Values"
   ]
  },
  {
   "cell_type": "markdown",
   "id": "31a30820-6554-4974-80c5-42a767ece297",
   "metadata": {},
   "source": [
    "### Converting Data Types"
   ]
  },
  {
   "cell_type": "markdown",
   "id": "c4ec3e8f-c4cf-4c6b-b3c1-78f136ddc702",
   "metadata": {},
   "source": [
    "### Consistency Check"
   ]
  },
  {
   "cell_type": "markdown",
   "id": "fea60d75-d49b-4e79-b5fd-5541293aee02",
   "metadata": {},
   "source": [
    "### Outlier Detection & Handling"
   ]
  },
  {
   "cell_type": "markdown",
   "id": "322653db-6f28-4d9b-b4c5-858d69784cc8",
   "metadata": {},
   "source": [
    "### Save Cleaned Data"
   ]
  },
  {
   "cell_type": "markdown",
   "id": "a7e3ccef-45da-4be6-a237-a54be86488e8",
   "metadata": {},
   "source": [
    "## Importing Libraries"
   ]
  },
  {
   "cell_type": "code",
   "execution_count": 102,
   "id": "d940dd72-eeb2-4dd5-ba51-d58e1060bac7",
   "metadata": {},
   "outputs": [],
   "source": [
    "# import libraries\n",
    "import pandas as pd\n",
    "import numpy as np\n",
    "import os\n",
    "import matplotlib.pyplot as plt\n",
    "import seaborn as sns\n",
    "import plotly.express as px"
   ]
  },
  {
   "cell_type": "markdown",
   "id": "fe54c9dd-9c8c-488a-ac86-68b19220f9de",
   "metadata": {},
   "source": [
    "# Loading and inspecting Data"
   ]
  },
  {
   "cell_type": "code",
   "execution_count": 104,
   "id": "be25524e-dc75-40eb-a144-a01990bf0705",
   "metadata": {},
   "outputs": [],
   "source": [
    "# This command tells python to remember a main folder path\n",
    "path = r'/Users/obinwannealisigwe/Desktop/Advanced Analytics/Gun Violence/Data/Original Data'"
   ]
  },
  {
   "cell_type": "code",
   "execution_count": 105,
   "id": "7aad86b0-e39b-4557-8c52-e7e8d404b9ab",
   "metadata": {},
   "outputs": [],
   "source": [
    "# simplify the import function\n",
    "df = pd.read_csv(os.path.join(path, 'gun-violence-data.csv'), index_col = False)"
   ]
  },
  {
   "cell_type": "code",
   "execution_count": 106,
   "id": "79346228-d302-472f-8828-5b2e1466e37a",
   "metadata": {},
   "outputs": [
    {
     "data": {
      "text/html": [
       "<div>\n",
       "<style scoped>\n",
       "    .dataframe tbody tr th:only-of-type {\n",
       "        vertical-align: middle;\n",
       "    }\n",
       "\n",
       "    .dataframe tbody tr th {\n",
       "        vertical-align: top;\n",
       "    }\n",
       "\n",
       "    .dataframe thead th {\n",
       "        text-align: right;\n",
       "    }\n",
       "</style>\n",
       "<table border=\"1\" class=\"dataframe\">\n",
       "  <thead>\n",
       "    <tr style=\"text-align: right;\">\n",
       "      <th></th>\n",
       "      <th>incident_id</th>\n",
       "      <th>date</th>\n",
       "      <th>state</th>\n",
       "      <th>city_or_county</th>\n",
       "      <th>address</th>\n",
       "      <th>n_killed</th>\n",
       "      <th>n_injured</th>\n",
       "      <th>incident_url</th>\n",
       "      <th>source_url</th>\n",
       "      <th>incident_url_fields_missing</th>\n",
       "      <th>...</th>\n",
       "      <th>participant_age</th>\n",
       "      <th>participant_age_group</th>\n",
       "      <th>participant_gender</th>\n",
       "      <th>participant_name</th>\n",
       "      <th>participant_relationship</th>\n",
       "      <th>participant_status</th>\n",
       "      <th>participant_type</th>\n",
       "      <th>sources</th>\n",
       "      <th>state_house_district</th>\n",
       "      <th>state_senate_district</th>\n",
       "    </tr>\n",
       "  </thead>\n",
       "  <tbody>\n",
       "    <tr>\n",
       "      <th>0</th>\n",
       "      <td>461105</td>\n",
       "      <td>2013-01-01</td>\n",
       "      <td>Pennsylvania</td>\n",
       "      <td>Mckeesport</td>\n",
       "      <td>1506 Versailles Avenue and Coursin Street</td>\n",
       "      <td>0</td>\n",
       "      <td>4</td>\n",
       "      <td>http://www.gunviolencearchive.org/incident/461105</td>\n",
       "      <td>http://www.post-gazette.com/local/south/2013/0...</td>\n",
       "      <td>False</td>\n",
       "      <td>...</td>\n",
       "      <td>0::20</td>\n",
       "      <td>0::Adult 18+||1::Adult 18+||2::Adult 18+||3::A...</td>\n",
       "      <td>0::Male||1::Male||3::Male||4::Female</td>\n",
       "      <td>0::Julian Sims</td>\n",
       "      <td>NaN</td>\n",
       "      <td>0::Arrested||1::Injured||2::Injured||3::Injure...</td>\n",
       "      <td>0::Victim||1::Victim||2::Victim||3::Victim||4:...</td>\n",
       "      <td>http://pittsburgh.cbslocal.com/2013/01/01/4-pe...</td>\n",
       "      <td>NaN</td>\n",
       "      <td>NaN</td>\n",
       "    </tr>\n",
       "    <tr>\n",
       "      <th>1</th>\n",
       "      <td>460726</td>\n",
       "      <td>2013-01-01</td>\n",
       "      <td>California</td>\n",
       "      <td>Hawthorne</td>\n",
       "      <td>13500 block of Cerise Avenue</td>\n",
       "      <td>1</td>\n",
       "      <td>3</td>\n",
       "      <td>http://www.gunviolencearchive.org/incident/460726</td>\n",
       "      <td>http://www.dailybulletin.com/article/zz/201301...</td>\n",
       "      <td>False</td>\n",
       "      <td>...</td>\n",
       "      <td>0::20</td>\n",
       "      <td>0::Adult 18+||1::Adult 18+||2::Adult 18+||3::A...</td>\n",
       "      <td>0::Male</td>\n",
       "      <td>0::Bernard Gillis</td>\n",
       "      <td>NaN</td>\n",
       "      <td>0::Killed||1::Injured||2::Injured||3::Injured</td>\n",
       "      <td>0::Victim||1::Victim||2::Victim||3::Victim||4:...</td>\n",
       "      <td>http://losangeles.cbslocal.com/2013/01/01/man-...</td>\n",
       "      <td>62.0</td>\n",
       "      <td>35.0</td>\n",
       "    </tr>\n",
       "    <tr>\n",
       "      <th>2</th>\n",
       "      <td>478855</td>\n",
       "      <td>2013-01-01</td>\n",
       "      <td>Ohio</td>\n",
       "      <td>Lorain</td>\n",
       "      <td>1776 East 28th Street</td>\n",
       "      <td>1</td>\n",
       "      <td>3</td>\n",
       "      <td>http://www.gunviolencearchive.org/incident/478855</td>\n",
       "      <td>http://chronicle.northcoastnow.com/2013/02/14/...</td>\n",
       "      <td>False</td>\n",
       "      <td>...</td>\n",
       "      <td>0::25||1::31||2::33||3::34||4::33</td>\n",
       "      <td>0::Adult 18+||1::Adult 18+||2::Adult 18+||3::A...</td>\n",
       "      <td>0::Male||1::Male||2::Male||3::Male||4::Male</td>\n",
       "      <td>0::Damien Bell||1::Desmen Noble||2::Herman Sea...</td>\n",
       "      <td>NaN</td>\n",
       "      <td>0::Injured, Unharmed, Arrested||1::Unharmed, A...</td>\n",
       "      <td>0::Subject-Suspect||1::Subject-Suspect||2::Vic...</td>\n",
       "      <td>http://www.morningjournal.com/general-news/201...</td>\n",
       "      <td>56.0</td>\n",
       "      <td>13.0</td>\n",
       "    </tr>\n",
       "    <tr>\n",
       "      <th>3</th>\n",
       "      <td>478925</td>\n",
       "      <td>2013-01-05</td>\n",
       "      <td>Colorado</td>\n",
       "      <td>Aurora</td>\n",
       "      <td>16000 block of East Ithaca Place</td>\n",
       "      <td>4</td>\n",
       "      <td>0</td>\n",
       "      <td>http://www.gunviolencearchive.org/incident/478925</td>\n",
       "      <td>http://www.dailydemocrat.com/20130106/aurora-s...</td>\n",
       "      <td>False</td>\n",
       "      <td>...</td>\n",
       "      <td>0::29||1::33||2::56||3::33</td>\n",
       "      <td>0::Adult 18+||1::Adult 18+||2::Adult 18+||3::A...</td>\n",
       "      <td>0::Female||1::Male||2::Male||3::Male</td>\n",
       "      <td>0::Stacie Philbrook||1::Christopher Ratliffe||...</td>\n",
       "      <td>NaN</td>\n",
       "      <td>0::Killed||1::Killed||2::Killed||3::Killed</td>\n",
       "      <td>0::Victim||1::Victim||2::Victim||3::Subject-Su...</td>\n",
       "      <td>http://denver.cbslocal.com/2013/01/06/officer-...</td>\n",
       "      <td>40.0</td>\n",
       "      <td>28.0</td>\n",
       "    </tr>\n",
       "    <tr>\n",
       "      <th>4</th>\n",
       "      <td>478959</td>\n",
       "      <td>2013-01-07</td>\n",
       "      <td>North Carolina</td>\n",
       "      <td>Greensboro</td>\n",
       "      <td>307 Mourning Dove Terrace</td>\n",
       "      <td>2</td>\n",
       "      <td>2</td>\n",
       "      <td>http://www.gunviolencearchive.org/incident/478959</td>\n",
       "      <td>http://www.journalnow.com/news/local/article_d...</td>\n",
       "      <td>False</td>\n",
       "      <td>...</td>\n",
       "      <td>0::18||1::46||2::14||3::47</td>\n",
       "      <td>0::Adult 18+||1::Adult 18+||2::Teen 12-17||3::...</td>\n",
       "      <td>0::Female||1::Male||2::Male||3::Female</td>\n",
       "      <td>0::Danielle Imani Jameison||1::Maurice Eugene ...</td>\n",
       "      <td>3::Family</td>\n",
       "      <td>0::Injured||1::Injured||2::Killed||3::Killed</td>\n",
       "      <td>0::Victim||1::Victim||2::Victim||3::Subject-Su...</td>\n",
       "      <td>http://myfox8.com/2013/01/08/update-mother-sho...</td>\n",
       "      <td>62.0</td>\n",
       "      <td>27.0</td>\n",
       "    </tr>\n",
       "  </tbody>\n",
       "</table>\n",
       "<p>5 rows × 29 columns</p>\n",
       "</div>"
      ],
      "text/plain": [
       "   incident_id        date           state city_or_county  \\\n",
       "0       461105  2013-01-01    Pennsylvania     Mckeesport   \n",
       "1       460726  2013-01-01      California      Hawthorne   \n",
       "2       478855  2013-01-01            Ohio         Lorain   \n",
       "3       478925  2013-01-05        Colorado         Aurora   \n",
       "4       478959  2013-01-07  North Carolina     Greensboro   \n",
       "\n",
       "                                     address  n_killed  n_injured  \\\n",
       "0  1506 Versailles Avenue and Coursin Street         0          4   \n",
       "1               13500 block of Cerise Avenue         1          3   \n",
       "2                      1776 East 28th Street         1          3   \n",
       "3           16000 block of East Ithaca Place         4          0   \n",
       "4                  307 Mourning Dove Terrace         2          2   \n",
       "\n",
       "                                        incident_url  \\\n",
       "0  http://www.gunviolencearchive.org/incident/461105   \n",
       "1  http://www.gunviolencearchive.org/incident/460726   \n",
       "2  http://www.gunviolencearchive.org/incident/478855   \n",
       "3  http://www.gunviolencearchive.org/incident/478925   \n",
       "4  http://www.gunviolencearchive.org/incident/478959   \n",
       "\n",
       "                                          source_url  \\\n",
       "0  http://www.post-gazette.com/local/south/2013/0...   \n",
       "1  http://www.dailybulletin.com/article/zz/201301...   \n",
       "2  http://chronicle.northcoastnow.com/2013/02/14/...   \n",
       "3  http://www.dailydemocrat.com/20130106/aurora-s...   \n",
       "4  http://www.journalnow.com/news/local/article_d...   \n",
       "\n",
       "   incident_url_fields_missing  ...                    participant_age  \\\n",
       "0                        False  ...                              0::20   \n",
       "1                        False  ...                              0::20   \n",
       "2                        False  ...  0::25||1::31||2::33||3::34||4::33   \n",
       "3                        False  ...         0::29||1::33||2::56||3::33   \n",
       "4                        False  ...         0::18||1::46||2::14||3::47   \n",
       "\n",
       "                               participant_age_group  \\\n",
       "0  0::Adult 18+||1::Adult 18+||2::Adult 18+||3::A...   \n",
       "1  0::Adult 18+||1::Adult 18+||2::Adult 18+||3::A...   \n",
       "2  0::Adult 18+||1::Adult 18+||2::Adult 18+||3::A...   \n",
       "3  0::Adult 18+||1::Adult 18+||2::Adult 18+||3::A...   \n",
       "4  0::Adult 18+||1::Adult 18+||2::Teen 12-17||3::...   \n",
       "\n",
       "                            participant_gender  \\\n",
       "0         0::Male||1::Male||3::Male||4::Female   \n",
       "1                                      0::Male   \n",
       "2  0::Male||1::Male||2::Male||3::Male||4::Male   \n",
       "3         0::Female||1::Male||2::Male||3::Male   \n",
       "4       0::Female||1::Male||2::Male||3::Female   \n",
       "\n",
       "                                    participant_name  \\\n",
       "0                                     0::Julian Sims   \n",
       "1                                  0::Bernard Gillis   \n",
       "2  0::Damien Bell||1::Desmen Noble||2::Herman Sea...   \n",
       "3  0::Stacie Philbrook||1::Christopher Ratliffe||...   \n",
       "4  0::Danielle Imani Jameison||1::Maurice Eugene ...   \n",
       "\n",
       "   participant_relationship  \\\n",
       "0                       NaN   \n",
       "1                       NaN   \n",
       "2                       NaN   \n",
       "3                       NaN   \n",
       "4                 3::Family   \n",
       "\n",
       "                                  participant_status  \\\n",
       "0  0::Arrested||1::Injured||2::Injured||3::Injure...   \n",
       "1      0::Killed||1::Injured||2::Injured||3::Injured   \n",
       "2  0::Injured, Unharmed, Arrested||1::Unharmed, A...   \n",
       "3         0::Killed||1::Killed||2::Killed||3::Killed   \n",
       "4       0::Injured||1::Injured||2::Killed||3::Killed   \n",
       "\n",
       "                                    participant_type  \\\n",
       "0  0::Victim||1::Victim||2::Victim||3::Victim||4:...   \n",
       "1  0::Victim||1::Victim||2::Victim||3::Victim||4:...   \n",
       "2  0::Subject-Suspect||1::Subject-Suspect||2::Vic...   \n",
       "3  0::Victim||1::Victim||2::Victim||3::Subject-Su...   \n",
       "4  0::Victim||1::Victim||2::Victim||3::Subject-Su...   \n",
       "\n",
       "                                             sources state_house_district  \\\n",
       "0  http://pittsburgh.cbslocal.com/2013/01/01/4-pe...                  NaN   \n",
       "1  http://losangeles.cbslocal.com/2013/01/01/man-...                 62.0   \n",
       "2  http://www.morningjournal.com/general-news/201...                 56.0   \n",
       "3  http://denver.cbslocal.com/2013/01/06/officer-...                 40.0   \n",
       "4  http://myfox8.com/2013/01/08/update-mother-sho...                 62.0   \n",
       "\n",
       "  state_senate_district  \n",
       "0                   NaN  \n",
       "1                  35.0  \n",
       "2                  13.0  \n",
       "3                  28.0  \n",
       "4                  27.0  \n",
       "\n",
       "[5 rows x 29 columns]"
      ]
     },
     "execution_count": 106,
     "metadata": {},
     "output_type": "execute_result"
    }
   ],
   "source": [
    "df.head()"
   ]
  },
  {
   "cell_type": "code",
   "execution_count": 107,
   "id": "1647bb2b-1f0a-4434-8a84-861128028ff8",
   "metadata": {},
   "outputs": [
    {
     "name": "stdout",
     "output_type": "stream",
     "text": [
      "<class 'pandas.core.frame.DataFrame'>\n",
      "RangeIndex: 239677 entries, 0 to 239676\n",
      "Data columns (total 29 columns):\n",
      " #   Column                       Non-Null Count   Dtype  \n",
      "---  ------                       --------------   -----  \n",
      " 0   incident_id                  239677 non-null  int64  \n",
      " 1   date                         239677 non-null  object \n",
      " 2   state                        239677 non-null  object \n",
      " 3   city_or_county               239677 non-null  object \n",
      " 4   address                      223180 non-null  object \n",
      " 5   n_killed                     239677 non-null  int64  \n",
      " 6   n_injured                    239677 non-null  int64  \n",
      " 7   incident_url                 239677 non-null  object \n",
      " 8   source_url                   239209 non-null  object \n",
      " 9   incident_url_fields_missing  239677 non-null  bool   \n",
      " 10  congressional_district       227733 non-null  float64\n",
      " 11  gun_stolen                   140179 non-null  object \n",
      " 12  gun_type                     140226 non-null  object \n",
      " 13  incident_characteristics     239351 non-null  object \n",
      " 14  latitude                     231754 non-null  float64\n",
      " 15  location_description         42089 non-null   object \n",
      " 16  longitude                    231754 non-null  float64\n",
      " 17  n_guns_involved              140226 non-null  float64\n",
      " 18  notes                        158660 non-null  object \n",
      " 19  participant_age              147379 non-null  object \n",
      " 20  participant_age_group        197558 non-null  object \n",
      " 21  participant_gender           203315 non-null  object \n",
      " 22  participant_name             117424 non-null  object \n",
      " 23  participant_relationship     15774 non-null   object \n",
      " 24  participant_status           212051 non-null  object \n",
      " 25  participant_type             214814 non-null  object \n",
      " 26  sources                      239068 non-null  object \n",
      " 27  state_house_district         200905 non-null  float64\n",
      " 28  state_senate_district        207342 non-null  float64\n",
      "dtypes: bool(1), float64(6), int64(3), object(19)\n",
      "memory usage: 51.4+ MB\n"
     ]
    }
   ],
   "source": [
    "# inspect the data\n",
    "df.info()"
   ]
  },
  {
   "cell_type": "code",
   "execution_count": 108,
   "id": "c65fcac2-f80d-4eab-8788-8b22aacbbd38",
   "metadata": {},
   "outputs": [
    {
     "data": {
      "text/plain": [
       "incident_id                      int64\n",
       "date                            object\n",
       "state                           object\n",
       "city_or_county                  object\n",
       "address                         object\n",
       "n_killed                         int64\n",
       "n_injured                        int64\n",
       "incident_url                    object\n",
       "source_url                      object\n",
       "incident_url_fields_missing       bool\n",
       "congressional_district         float64\n",
       "gun_stolen                      object\n",
       "gun_type                        object\n",
       "incident_characteristics        object\n",
       "latitude                       float64\n",
       "location_description            object\n",
       "longitude                      float64\n",
       "n_guns_involved                float64\n",
       "notes                           object\n",
       "participant_age                 object\n",
       "participant_age_group           object\n",
       "participant_gender              object\n",
       "participant_name                object\n",
       "participant_relationship        object\n",
       "participant_status              object\n",
       "participant_type                object\n",
       "sources                         object\n",
       "state_house_district           float64\n",
       "state_senate_district          float64\n",
       "dtype: object"
      ]
     },
     "execution_count": 108,
     "metadata": {},
     "output_type": "execute_result"
    }
   ],
   "source": [
    "df.dtypes"
   ]
  },
  {
   "cell_type": "code",
   "execution_count": 109,
   "id": "5ed5dc4e-a67e-4a16-92ef-c84765a5c516",
   "metadata": {},
   "outputs": [
    {
     "data": {
      "text/html": [
       "<div>\n",
       "<style scoped>\n",
       "    .dataframe tbody tr th:only-of-type {\n",
       "        vertical-align: middle;\n",
       "    }\n",
       "\n",
       "    .dataframe tbody tr th {\n",
       "        vertical-align: top;\n",
       "    }\n",
       "\n",
       "    .dataframe thead th {\n",
       "        text-align: right;\n",
       "    }\n",
       "</style>\n",
       "<table border=\"1\" class=\"dataframe\">\n",
       "  <thead>\n",
       "    <tr style=\"text-align: right;\">\n",
       "      <th></th>\n",
       "      <th>incident_id</th>\n",
       "      <th>n_killed</th>\n",
       "      <th>n_injured</th>\n",
       "      <th>congressional_district</th>\n",
       "      <th>latitude</th>\n",
       "      <th>longitude</th>\n",
       "      <th>n_guns_involved</th>\n",
       "      <th>state_house_district</th>\n",
       "      <th>state_senate_district</th>\n",
       "    </tr>\n",
       "  </thead>\n",
       "  <tbody>\n",
       "    <tr>\n",
       "      <th>count</th>\n",
       "      <td>2.396770e+05</td>\n",
       "      <td>239677.000000</td>\n",
       "      <td>239677.000000</td>\n",
       "      <td>227733.000000</td>\n",
       "      <td>231754.000000</td>\n",
       "      <td>231754.000000</td>\n",
       "      <td>140226.000000</td>\n",
       "      <td>200905.000000</td>\n",
       "      <td>207342.00000</td>\n",
       "    </tr>\n",
       "    <tr>\n",
       "      <th>mean</th>\n",
       "      <td>5.593343e+05</td>\n",
       "      <td>0.252290</td>\n",
       "      <td>0.494007</td>\n",
       "      <td>8.001265</td>\n",
       "      <td>37.546598</td>\n",
       "      <td>-89.338348</td>\n",
       "      <td>1.372442</td>\n",
       "      <td>55.447132</td>\n",
       "      <td>20.47711</td>\n",
       "    </tr>\n",
       "    <tr>\n",
       "      <th>std</th>\n",
       "      <td>2.931287e+05</td>\n",
       "      <td>0.521779</td>\n",
       "      <td>0.729952</td>\n",
       "      <td>8.480835</td>\n",
       "      <td>5.130763</td>\n",
       "      <td>14.359546</td>\n",
       "      <td>4.678202</td>\n",
       "      <td>42.048117</td>\n",
       "      <td>14.20456</td>\n",
       "    </tr>\n",
       "    <tr>\n",
       "      <th>min</th>\n",
       "      <td>9.211400e+04</td>\n",
       "      <td>0.000000</td>\n",
       "      <td>0.000000</td>\n",
       "      <td>0.000000</td>\n",
       "      <td>19.111400</td>\n",
       "      <td>-171.429000</td>\n",
       "      <td>1.000000</td>\n",
       "      <td>1.000000</td>\n",
       "      <td>1.00000</td>\n",
       "    </tr>\n",
       "    <tr>\n",
       "      <th>25%</th>\n",
       "      <td>3.085450e+05</td>\n",
       "      <td>0.000000</td>\n",
       "      <td>0.000000</td>\n",
       "      <td>2.000000</td>\n",
       "      <td>33.903400</td>\n",
       "      <td>-94.158725</td>\n",
       "      <td>1.000000</td>\n",
       "      <td>21.000000</td>\n",
       "      <td>9.00000</td>\n",
       "    </tr>\n",
       "    <tr>\n",
       "      <th>50%</th>\n",
       "      <td>5.435870e+05</td>\n",
       "      <td>0.000000</td>\n",
       "      <td>0.000000</td>\n",
       "      <td>5.000000</td>\n",
       "      <td>38.570600</td>\n",
       "      <td>-86.249600</td>\n",
       "      <td>1.000000</td>\n",
       "      <td>47.000000</td>\n",
       "      <td>19.00000</td>\n",
       "    </tr>\n",
       "    <tr>\n",
       "      <th>75%</th>\n",
       "      <td>8.172280e+05</td>\n",
       "      <td>0.000000</td>\n",
       "      <td>1.000000</td>\n",
       "      <td>10.000000</td>\n",
       "      <td>41.437375</td>\n",
       "      <td>-80.048625</td>\n",
       "      <td>1.000000</td>\n",
       "      <td>84.000000</td>\n",
       "      <td>30.00000</td>\n",
       "    </tr>\n",
       "    <tr>\n",
       "      <th>max</th>\n",
       "      <td>1.083472e+06</td>\n",
       "      <td>50.000000</td>\n",
       "      <td>53.000000</td>\n",
       "      <td>53.000000</td>\n",
       "      <td>71.336800</td>\n",
       "      <td>97.433100</td>\n",
       "      <td>400.000000</td>\n",
       "      <td>901.000000</td>\n",
       "      <td>94.00000</td>\n",
       "    </tr>\n",
       "  </tbody>\n",
       "</table>\n",
       "</div>"
      ],
      "text/plain": [
       "        incident_id       n_killed      n_injured  congressional_district  \\\n",
       "count  2.396770e+05  239677.000000  239677.000000           227733.000000   \n",
       "mean   5.593343e+05       0.252290       0.494007                8.001265   \n",
       "std    2.931287e+05       0.521779       0.729952                8.480835   \n",
       "min    9.211400e+04       0.000000       0.000000                0.000000   \n",
       "25%    3.085450e+05       0.000000       0.000000                2.000000   \n",
       "50%    5.435870e+05       0.000000       0.000000                5.000000   \n",
       "75%    8.172280e+05       0.000000       1.000000               10.000000   \n",
       "max    1.083472e+06      50.000000      53.000000               53.000000   \n",
       "\n",
       "            latitude      longitude  n_guns_involved  state_house_district  \\\n",
       "count  231754.000000  231754.000000    140226.000000         200905.000000   \n",
       "mean       37.546598     -89.338348         1.372442             55.447132   \n",
       "std         5.130763      14.359546         4.678202             42.048117   \n",
       "min        19.111400    -171.429000         1.000000              1.000000   \n",
       "25%        33.903400     -94.158725         1.000000             21.000000   \n",
       "50%        38.570600     -86.249600         1.000000             47.000000   \n",
       "75%        41.437375     -80.048625         1.000000             84.000000   \n",
       "max        71.336800      97.433100       400.000000            901.000000   \n",
       "\n",
       "       state_senate_district  \n",
       "count           207342.00000  \n",
       "mean                20.47711  \n",
       "std                 14.20456  \n",
       "min                  1.00000  \n",
       "25%                  9.00000  \n",
       "50%                 19.00000  \n",
       "75%                 30.00000  \n",
       "max                 94.00000  "
      ]
     },
     "execution_count": 109,
     "metadata": {},
     "output_type": "execute_result"
    }
   ],
   "source": [
    "df.describe()"
   ]
  },
  {
   "cell_type": "code",
   "execution_count": 110,
   "id": "5d2518a3-ce26-4ddd-84dc-b9419ceef583",
   "metadata": {},
   "outputs": [
    {
     "data": {
      "text/plain": [
       "(239677, 29)"
      ]
     },
     "execution_count": 110,
     "metadata": {},
     "output_type": "execute_result"
    }
   ],
   "source": [
    "df.shape"
   ]
  },
  {
   "cell_type": "code",
   "execution_count": 111,
   "id": "41081567-8f5e-4a01-bb7e-bcf5cbf0a6a8",
   "metadata": {},
   "outputs": [
    {
     "data": {
      "text/plain": [
       "Index(['incident_id', 'date', 'state', 'city_or_county', 'address', 'n_killed',\n",
       "       'n_injured', 'incident_url', 'source_url',\n",
       "       'incident_url_fields_missing', 'congressional_district', 'gun_stolen',\n",
       "       'gun_type', 'incident_characteristics', 'latitude',\n",
       "       'location_description', 'longitude', 'n_guns_involved', 'notes',\n",
       "       'participant_age', 'participant_age_group', 'participant_gender',\n",
       "       'participant_name', 'participant_relationship', 'participant_status',\n",
       "       'participant_type', 'sources', 'state_house_district',\n",
       "       'state_senate_district'],\n",
       "      dtype='object')"
      ]
     },
     "execution_count": 111,
     "metadata": {},
     "output_type": "execute_result"
    }
   ],
   "source": [
    "df.columns"
   ]
  },
  {
   "cell_type": "markdown",
   "id": "a03e32b6-cff1-42f6-a032-04f471477f8b",
   "metadata": {},
   "source": [
    "# Data Consistency check"
   ]
  },
  {
   "cell_type": "code",
   "execution_count": 113,
   "id": "7df272f9-4a1c-433b-a95b-abae3a08da13",
   "metadata": {},
   "outputs": [
    {
     "data": {
      "text/plain": [
       "incident_id                         0\n",
       "date                                0\n",
       "state                               0\n",
       "city_or_county                      0\n",
       "address                         16497\n",
       "n_killed                            0\n",
       "n_injured                           0\n",
       "incident_url                        0\n",
       "source_url                        468\n",
       "incident_url_fields_missing         0\n",
       "congressional_district          11944\n",
       "gun_stolen                      99498\n",
       "gun_type                        99451\n",
       "incident_characteristics          326\n",
       "latitude                         7923\n",
       "location_description           197588\n",
       "longitude                        7923\n",
       "n_guns_involved                 99451\n",
       "notes                           81017\n",
       "participant_age                 92298\n",
       "participant_age_group           42119\n",
       "participant_gender              36362\n",
       "participant_name               122253\n",
       "participant_relationship       223903\n",
       "participant_status              27626\n",
       "participant_type                24863\n",
       "sources                           609\n",
       "state_house_district            38772\n",
       "state_senate_district           32335\n",
       "dtype: int64"
      ]
     },
     "execution_count": 113,
     "metadata": {},
     "output_type": "execute_result"
    }
   ],
   "source": [
    "# using isnull to find out missing values\n",
    "df.isnull().values\n",
    "df.isnull().values.any()\n",
    "df.isnull().sum()"
   ]
  },
  {
   "cell_type": "code",
   "execution_count": 114,
   "id": "f6f5eb4d-ee05-4ec2-b32a-7d2aae8303b1",
   "metadata": {},
   "outputs": [],
   "source": [
    "#Find the missing data percentage \n",
    "#This is required to judge if a column should be taken into consideration for analysis or not in the current form.\n",
    "#With the shape we already found the value as (239677, 29) but to make it general we need to find the count at runtime.\n",
    "missing_data_percentage =(df.isnull().sum()/df.shape[0]) * 100"
   ]
  },
  {
   "cell_type": "code",
   "execution_count": 115,
   "id": "aa0d9aaf-d46d-4579-9774-48bfe336ddff",
   "metadata": {},
   "outputs": [
    {
     "data": {
      "text/plain": [
       "incident_id                     0.000000\n",
       "date                            0.000000\n",
       "state                           0.000000\n",
       "city_or_county                  0.000000\n",
       "address                         6.883013\n",
       "n_killed                        0.000000\n",
       "n_injured                       0.000000\n",
       "incident_url                    0.000000\n",
       "source_url                      0.195263\n",
       "incident_url_fields_missing     0.000000\n",
       "congressional_district          4.983373\n",
       "gun_stolen                     41.513370\n",
       "gun_type                       41.493760\n",
       "incident_characteristics        0.136016\n",
       "latitude                        3.305699\n",
       "location_description           82.439283\n",
       "longitude                       3.305699\n",
       "n_guns_involved                41.493760\n",
       "notes                          33.802576\n",
       "participant_age                38.509327\n",
       "participant_age_group          17.573234\n",
       "participant_gender             15.171251\n",
       "participant_name               51.007397\n",
       "participant_relationship       93.418643\n",
       "participant_status             11.526346\n",
       "participant_type               10.373544\n",
       "sources                         0.254092\n",
       "state_house_district           16.176771\n",
       "state_senate_district          13.491073\n",
       "dtype: float64"
      ]
     },
     "execution_count": 115,
     "metadata": {},
     "output_type": "execute_result"
    }
   ],
   "source": [
    "missing_data_percentage"
   ]
  },
  {
   "cell_type": "markdown",
   "id": "f44d5d2d-da53-456d-a2a1-5304e65abb20",
   "metadata": {},
   "source": [
    "## Replacing missing values with Mean imputation"
   ]
  },
  {
   "cell_type": "code",
   "execution_count": 117,
   "id": "b4e5cb4a-dc36-4c0f-bf04-80c504f9fcf5",
   "metadata": {},
   "outputs": [],
   "source": [
    "def impute_data(df):\n",
    "    # Numerical Columns\n",
    "    for col in df.select_dtypes(include=['int', 'float']):\n",
    "        if df[col].isnull().sum() > 0:  \n",
    "           df.loc[df[col].isnull(), col] = df[col].mean()  \n",
    "    return df\n",
    "\n",
    "\n",
    "# Apply the imputation function\n",
    "df = impute_data(df.copy())"
   ]
  },
  {
   "cell_type": "code",
   "execution_count": 118,
   "id": "6c4cb66e-92d4-4940-9585-2eeab210ef6a",
   "metadata": {},
   "outputs": [
    {
     "name": "stdout",
     "output_type": "stream",
     "text": [
      "(239677, 20)\n"
     ]
    },
    {
     "data": {
      "text/html": [
       "<div>\n",
       "<style scoped>\n",
       "    .dataframe tbody tr th:only-of-type {\n",
       "        vertical-align: middle;\n",
       "    }\n",
       "\n",
       "    .dataframe tbody tr th {\n",
       "        vertical-align: top;\n",
       "    }\n",
       "\n",
       "    .dataframe thead th {\n",
       "        text-align: right;\n",
       "    }\n",
       "</style>\n",
       "<table border=\"1\" class=\"dataframe\">\n",
       "  <thead>\n",
       "    <tr style=\"text-align: right;\">\n",
       "      <th></th>\n",
       "      <th>107426</th>\n",
       "      <th>127399</th>\n",
       "      <th>179810</th>\n",
       "      <th>19466</th>\n",
       "      <th>36514</th>\n",
       "    </tr>\n",
       "  </thead>\n",
       "  <tbody>\n",
       "    <tr>\n",
       "      <th>incident_id</th>\n",
       "      <td>483406</td>\n",
       "      <td>825184</td>\n",
       "      <td>811860</td>\n",
       "      <td>184517</td>\n",
       "      <td>190296</td>\n",
       "    </tr>\n",
       "    <tr>\n",
       "      <th>date</th>\n",
       "      <td>2016-01-11</td>\n",
       "      <td>2016-05-23</td>\n",
       "      <td>2017-04-03</td>\n",
       "      <td>2014-05-31</td>\n",
       "      <td>2014-09-12</td>\n",
       "    </tr>\n",
       "    <tr>\n",
       "      <th>state</th>\n",
       "      <td>Hawaii</td>\n",
       "      <td>Michigan</td>\n",
       "      <td>Louisiana</td>\n",
       "      <td>Missouri</td>\n",
       "      <td>Alabama</td>\n",
       "    </tr>\n",
       "    <tr>\n",
       "      <th>city_or_county</th>\n",
       "      <td>Waipahu</td>\n",
       "      <td>Detroit</td>\n",
       "      <td>Baton Rouge</td>\n",
       "      <td>Saint Louis</td>\n",
       "      <td>Birmingham</td>\n",
       "    </tr>\n",
       "    <tr>\n",
       "      <th>address</th>\n",
       "      <td>94-795 Lumiaina Street</td>\n",
       "      <td>Beaverland Rd and Eaton</td>\n",
       "      <td>801 Harding Blvd</td>\n",
       "      <td>10701 Lambert International Blvd</td>\n",
       "      <td>248 1st Ave Sw</td>\n",
       "    </tr>\n",
       "    <tr>\n",
       "      <th>n_killed</th>\n",
       "      <td>0</td>\n",
       "      <td>0</td>\n",
       "      <td>0</td>\n",
       "      <td>0</td>\n",
       "      <td>0</td>\n",
       "    </tr>\n",
       "    <tr>\n",
       "      <th>n_injured</th>\n",
       "      <td>0</td>\n",
       "      <td>1</td>\n",
       "      <td>0</td>\n",
       "      <td>0</td>\n",
       "      <td>1</td>\n",
       "    </tr>\n",
       "    <tr>\n",
       "      <th>congressional_district</th>\n",
       "      <td>1.0</td>\n",
       "      <td>13.0</td>\n",
       "      <td>2.0</td>\n",
       "      <td>1.0</td>\n",
       "      <td>7.0</td>\n",
       "    </tr>\n",
       "    <tr>\n",
       "      <th>gun_stolen</th>\n",
       "      <td>0::Unknown</td>\n",
       "      <td>0::Unknown||1::Unknown</td>\n",
       "      <td>0::Unknown</td>\n",
       "      <td>NaN</td>\n",
       "      <td>NaN</td>\n",
       "    </tr>\n",
       "    <tr>\n",
       "      <th>gun_type</th>\n",
       "      <td>0::Shotgun</td>\n",
       "      <td>0::Unknown||1::Unknown</td>\n",
       "      <td>0::9mm</td>\n",
       "      <td>NaN</td>\n",
       "      <td>NaN</td>\n",
       "    </tr>\n",
       "    <tr>\n",
       "      <th>latitude</th>\n",
       "      <td>21.4003</td>\n",
       "      <td>42.3954</td>\n",
       "      <td>30.5204</td>\n",
       "      <td>38.7405</td>\n",
       "      <td>33.4971</td>\n",
       "    </tr>\n",
       "    <tr>\n",
       "      <th>longitude</th>\n",
       "      <td>-158.007</td>\n",
       "      <td>-83.2654</td>\n",
       "      <td>-91.188</td>\n",
       "      <td>-90.3648</td>\n",
       "      <td>-86.8361</td>\n",
       "    </tr>\n",
       "    <tr>\n",
       "      <th>n_guns_involved</th>\n",
       "      <td>1.0</td>\n",
       "      <td>2.0</td>\n",
       "      <td>1.0</td>\n",
       "      <td>1.372442</td>\n",
       "      <td>1.372442</td>\n",
       "    </tr>\n",
       "    <tr>\n",
       "      <th>participant_age</th>\n",
       "      <td>0::23</td>\n",
       "      <td>NaN</td>\n",
       "      <td>0::19||1::20</td>\n",
       "      <td>NaN</td>\n",
       "      <td>0::16</td>\n",
       "    </tr>\n",
       "    <tr>\n",
       "      <th>participant_age_group</th>\n",
       "      <td>0::Adult 18+</td>\n",
       "      <td>0::Adult 18+||1::Adult 18+||2::Adult 18+</td>\n",
       "      <td>0::Adult 18+||1::Adult 18+</td>\n",
       "      <td>NaN</td>\n",
       "      <td>0::Teen 12-17</td>\n",
       "    </tr>\n",
       "    <tr>\n",
       "      <th>participant_gender</th>\n",
       "      <td>0::Male||1::Male</td>\n",
       "      <td>0::Male||1::Male||2::Male</td>\n",
       "      <td>0::Male||1::Male</td>\n",
       "      <td>NaN</td>\n",
       "      <td>0::Male</td>\n",
       "    </tr>\n",
       "    <tr>\n",
       "      <th>participant_status</th>\n",
       "      <td>0::Unharmed||1::Unharmed</td>\n",
       "      <td>0::Unharmed||1::Injured, Arrested||2::Unharmed</td>\n",
       "      <td>0::Unharmed, Arrested||1::Unharmed, Arrested</td>\n",
       "      <td>NaN</td>\n",
       "      <td>0::Injured</td>\n",
       "    </tr>\n",
       "    <tr>\n",
       "      <th>participant_type</th>\n",
       "      <td>0::Victim||1::Subject-Suspect</td>\n",
       "      <td>0::Victim||1::Subject-Suspect||2::Subject-Suspect</td>\n",
       "      <td>0::Subject-Suspect||1::Subject-Suspect</td>\n",
       "      <td>NaN</td>\n",
       "      <td>0::Victim</td>\n",
       "    </tr>\n",
       "    <tr>\n",
       "      <th>state_house_district</th>\n",
       "      <td>35.0</td>\n",
       "      <td>8.0</td>\n",
       "      <td>63.0</td>\n",
       "      <td>73.0</td>\n",
       "      <td>55.0</td>\n",
       "    </tr>\n",
       "    <tr>\n",
       "      <th>state_senate_district</th>\n",
       "      <td>18.0</td>\n",
       "      <td>3.0</td>\n",
       "      <td>14.0</td>\n",
       "      <td>14.0</td>\n",
       "      <td>18.0</td>\n",
       "    </tr>\n",
       "  </tbody>\n",
       "</table>\n",
       "</div>"
      ],
      "text/plain": [
       "                                               107426  \\\n",
       "incident_id                                    483406   \n",
       "date                                       2016-01-11   \n",
       "state                                          Hawaii   \n",
       "city_or_county                                Waipahu   \n",
       "address                        94-795 Lumiaina Street   \n",
       "n_killed                                            0   \n",
       "n_injured                                           0   \n",
       "congressional_district                            1.0   \n",
       "gun_stolen                                 0::Unknown   \n",
       "gun_type                                   0::Shotgun   \n",
       "latitude                                      21.4003   \n",
       "longitude                                    -158.007   \n",
       "n_guns_involved                                   1.0   \n",
       "participant_age                                 0::23   \n",
       "participant_age_group                    0::Adult 18+   \n",
       "participant_gender                   0::Male||1::Male   \n",
       "participant_status           0::Unharmed||1::Unharmed   \n",
       "participant_type        0::Victim||1::Subject-Suspect   \n",
       "state_house_district                             35.0   \n",
       "state_senate_district                            18.0   \n",
       "\n",
       "                                                                   127399  \\\n",
       "incident_id                                                        825184   \n",
       "date                                                           2016-05-23   \n",
       "state                                                            Michigan   \n",
       "city_or_county                                                    Detroit   \n",
       "address                                           Beaverland Rd and Eaton   \n",
       "n_killed                                                                0   \n",
       "n_injured                                                               1   \n",
       "congressional_district                                               13.0   \n",
       "gun_stolen                                         0::Unknown||1::Unknown   \n",
       "gun_type                                           0::Unknown||1::Unknown   \n",
       "latitude                                                          42.3954   \n",
       "longitude                                                        -83.2654   \n",
       "n_guns_involved                                                       2.0   \n",
       "participant_age                                                       NaN   \n",
       "participant_age_group            0::Adult 18+||1::Adult 18+||2::Adult 18+   \n",
       "participant_gender                              0::Male||1::Male||2::Male   \n",
       "participant_status         0::Unharmed||1::Injured, Arrested||2::Unharmed   \n",
       "participant_type        0::Victim||1::Subject-Suspect||2::Subject-Suspect   \n",
       "state_house_district                                                  8.0   \n",
       "state_senate_district                                                 3.0   \n",
       "\n",
       "                                                              179810  \\\n",
       "incident_id                                                   811860   \n",
       "date                                                      2017-04-03   \n",
       "state                                                      Louisiana   \n",
       "city_or_county                                           Baton Rouge   \n",
       "address                                             801 Harding Blvd   \n",
       "n_killed                                                           0   \n",
       "n_injured                                                          0   \n",
       "congressional_district                                           2.0   \n",
       "gun_stolen                                                0::Unknown   \n",
       "gun_type                                                      0::9mm   \n",
       "latitude                                                     30.5204   \n",
       "longitude                                                    -91.188   \n",
       "n_guns_involved                                                  1.0   \n",
       "participant_age                                         0::19||1::20   \n",
       "participant_age_group                     0::Adult 18+||1::Adult 18+   \n",
       "participant_gender                                  0::Male||1::Male   \n",
       "participant_status      0::Unharmed, Arrested||1::Unharmed, Arrested   \n",
       "participant_type              0::Subject-Suspect||1::Subject-Suspect   \n",
       "state_house_district                                            63.0   \n",
       "state_senate_district                                           14.0   \n",
       "\n",
       "                                                  19466            36514   \n",
       "incident_id                                       184517           190296  \n",
       "date                                          2014-05-31       2014-09-12  \n",
       "state                                           Missouri          Alabama  \n",
       "city_or_county                               Saint Louis       Birmingham  \n",
       "address                 10701 Lambert International Blvd   248 1st Ave Sw  \n",
       "n_killed                                               0                0  \n",
       "n_injured                                              0                1  \n",
       "congressional_district                               1.0              7.0  \n",
       "gun_stolen                                           NaN              NaN  \n",
       "gun_type                                             NaN              NaN  \n",
       "latitude                                         38.7405          33.4971  \n",
       "longitude                                       -90.3648         -86.8361  \n",
       "n_guns_involved                                 1.372442         1.372442  \n",
       "participant_age                                      NaN            0::16  \n",
       "participant_age_group                                NaN    0::Teen 12-17  \n",
       "participant_gender                                   NaN          0::Male  \n",
       "participant_status                                   NaN       0::Injured  \n",
       "participant_type                                     NaN        0::Victim  \n",
       "state_house_district                                73.0             55.0  \n",
       "state_senate_district                               14.0             18.0  "
      ]
     },
     "execution_count": 118,
     "metadata": {},
     "output_type": "execute_result"
    }
   ],
   "source": [
    "# finally, drop unused columns\n",
    "cols2drop = ['incident_url', \n",
    "             'source_url', 'incident_url_fields_missing', 'incident_characteristics', 'location_description', 'notes', \n",
    "             'participant_name', 'participant_relationship', \n",
    "              'sources',]\n",
    "df = df.drop(cols2drop, axis=1)\n",
    "print(df.shape)\n",
    "df.sample(5).T"
   ]
  },
  {
   "cell_type": "markdown",
   "id": "5996ea88-bfbd-45dd-af5a-99a50e7fa91e",
   "metadata": {},
   "source": [
    "## Remove Duplicate Values"
   ]
  },
  {
   "cell_type": "code",
   "execution_count": 120,
   "id": "f9785854-5eeb-4a52-ba6f-140c90b81150",
   "metadata": {},
   "outputs": [],
   "source": [
    "df = df.drop_duplicates()"
   ]
  },
  {
   "cell_type": "code",
   "execution_count": 121,
   "id": "74514262-2550-4834-b588-f57cba99dd07",
   "metadata": {},
   "outputs": [
    {
     "data": {
      "text/html": [
       "<div>\n",
       "<style scoped>\n",
       "    .dataframe tbody tr th:only-of-type {\n",
       "        vertical-align: middle;\n",
       "    }\n",
       "\n",
       "    .dataframe tbody tr th {\n",
       "        vertical-align: top;\n",
       "    }\n",
       "\n",
       "    .dataframe thead th {\n",
       "        text-align: right;\n",
       "    }\n",
       "</style>\n",
       "<table border=\"1\" class=\"dataframe\">\n",
       "  <thead>\n",
       "    <tr style=\"text-align: right;\">\n",
       "      <th></th>\n",
       "      <th>incident_id</th>\n",
       "      <th>date</th>\n",
       "      <th>state</th>\n",
       "      <th>city_or_county</th>\n",
       "      <th>address</th>\n",
       "      <th>n_killed</th>\n",
       "      <th>n_injured</th>\n",
       "      <th>congressional_district</th>\n",
       "      <th>gun_stolen</th>\n",
       "      <th>gun_type</th>\n",
       "      <th>latitude</th>\n",
       "      <th>longitude</th>\n",
       "      <th>n_guns_involved</th>\n",
       "      <th>participant_age</th>\n",
       "      <th>participant_age_group</th>\n",
       "      <th>participant_gender</th>\n",
       "      <th>participant_status</th>\n",
       "      <th>participant_type</th>\n",
       "      <th>state_house_district</th>\n",
       "      <th>state_senate_district</th>\n",
       "    </tr>\n",
       "  </thead>\n",
       "  <tbody>\n",
       "    <tr>\n",
       "      <th>0</th>\n",
       "      <td>461105</td>\n",
       "      <td>2013-01-01</td>\n",
       "      <td>Pennsylvania</td>\n",
       "      <td>Mckeesport</td>\n",
       "      <td>1506 Versailles Avenue and Coursin Street</td>\n",
       "      <td>0</td>\n",
       "      <td>4</td>\n",
       "      <td>14.000000</td>\n",
       "      <td>NaN</td>\n",
       "      <td>NaN</td>\n",
       "      <td>40.346700</td>\n",
       "      <td>-79.855900</td>\n",
       "      <td>1.372442</td>\n",
       "      <td>0::20</td>\n",
       "      <td>0::Adult 18+||1::Adult 18+||2::Adult 18+||3::A...</td>\n",
       "      <td>0::Male||1::Male||3::Male||4::Female</td>\n",
       "      <td>0::Arrested||1::Injured||2::Injured||3::Injure...</td>\n",
       "      <td>0::Victim||1::Victim||2::Victim||3::Victim||4:...</td>\n",
       "      <td>55.447132</td>\n",
       "      <td>20.47711</td>\n",
       "    </tr>\n",
       "    <tr>\n",
       "      <th>1</th>\n",
       "      <td>460726</td>\n",
       "      <td>2013-01-01</td>\n",
       "      <td>California</td>\n",
       "      <td>Hawthorne</td>\n",
       "      <td>13500 block of Cerise Avenue</td>\n",
       "      <td>1</td>\n",
       "      <td>3</td>\n",
       "      <td>43.000000</td>\n",
       "      <td>NaN</td>\n",
       "      <td>NaN</td>\n",
       "      <td>33.909000</td>\n",
       "      <td>-118.333000</td>\n",
       "      <td>1.372442</td>\n",
       "      <td>0::20</td>\n",
       "      <td>0::Adult 18+||1::Adult 18+||2::Adult 18+||3::A...</td>\n",
       "      <td>0::Male</td>\n",
       "      <td>0::Killed||1::Injured||2::Injured||3::Injured</td>\n",
       "      <td>0::Victim||1::Victim||2::Victim||3::Victim||4:...</td>\n",
       "      <td>62.000000</td>\n",
       "      <td>35.00000</td>\n",
       "    </tr>\n",
       "    <tr>\n",
       "      <th>2</th>\n",
       "      <td>478855</td>\n",
       "      <td>2013-01-01</td>\n",
       "      <td>Ohio</td>\n",
       "      <td>Lorain</td>\n",
       "      <td>1776 East 28th Street</td>\n",
       "      <td>1</td>\n",
       "      <td>3</td>\n",
       "      <td>9.000000</td>\n",
       "      <td>0::Unknown||1::Unknown</td>\n",
       "      <td>NaN</td>\n",
       "      <td>41.445500</td>\n",
       "      <td>-82.137700</td>\n",
       "      <td>2.000000</td>\n",
       "      <td>0::25||1::31||2::33||3::34||4::33</td>\n",
       "      <td>0::Adult 18+||1::Adult 18+||2::Adult 18+||3::A...</td>\n",
       "      <td>0::Male||1::Male||2::Male||3::Male||4::Male</td>\n",
       "      <td>0::Injured, Unharmed, Arrested||1::Unharmed, A...</td>\n",
       "      <td>0::Subject-Suspect||1::Subject-Suspect||2::Vic...</td>\n",
       "      <td>56.000000</td>\n",
       "      <td>13.00000</td>\n",
       "    </tr>\n",
       "    <tr>\n",
       "      <th>3</th>\n",
       "      <td>478925</td>\n",
       "      <td>2013-01-05</td>\n",
       "      <td>Colorado</td>\n",
       "      <td>Aurora</td>\n",
       "      <td>16000 block of East Ithaca Place</td>\n",
       "      <td>4</td>\n",
       "      <td>0</td>\n",
       "      <td>6.000000</td>\n",
       "      <td>NaN</td>\n",
       "      <td>NaN</td>\n",
       "      <td>39.651800</td>\n",
       "      <td>-104.802000</td>\n",
       "      <td>1.372442</td>\n",
       "      <td>0::29||1::33||2::56||3::33</td>\n",
       "      <td>0::Adult 18+||1::Adult 18+||2::Adult 18+||3::A...</td>\n",
       "      <td>0::Female||1::Male||2::Male||3::Male</td>\n",
       "      <td>0::Killed||1::Killed||2::Killed||3::Killed</td>\n",
       "      <td>0::Victim||1::Victim||2::Victim||3::Subject-Su...</td>\n",
       "      <td>40.000000</td>\n",
       "      <td>28.00000</td>\n",
       "    </tr>\n",
       "    <tr>\n",
       "      <th>4</th>\n",
       "      <td>478959</td>\n",
       "      <td>2013-01-07</td>\n",
       "      <td>North Carolina</td>\n",
       "      <td>Greensboro</td>\n",
       "      <td>307 Mourning Dove Terrace</td>\n",
       "      <td>2</td>\n",
       "      <td>2</td>\n",
       "      <td>6.000000</td>\n",
       "      <td>0::Unknown||1::Unknown</td>\n",
       "      <td>0::Handgun||1::Handgun</td>\n",
       "      <td>36.114000</td>\n",
       "      <td>-79.956900</td>\n",
       "      <td>2.000000</td>\n",
       "      <td>0::18||1::46||2::14||3::47</td>\n",
       "      <td>0::Adult 18+||1::Adult 18+||2::Teen 12-17||3::...</td>\n",
       "      <td>0::Female||1::Male||2::Male||3::Female</td>\n",
       "      <td>0::Injured||1::Injured||2::Killed||3::Killed</td>\n",
       "      <td>0::Victim||1::Victim||2::Victim||3::Subject-Su...</td>\n",
       "      <td>62.000000</td>\n",
       "      <td>27.00000</td>\n",
       "    </tr>\n",
       "    <tr>\n",
       "      <th>...</th>\n",
       "      <td>...</td>\n",
       "      <td>...</td>\n",
       "      <td>...</td>\n",
       "      <td>...</td>\n",
       "      <td>...</td>\n",
       "      <td>...</td>\n",
       "      <td>...</td>\n",
       "      <td>...</td>\n",
       "      <td>...</td>\n",
       "      <td>...</td>\n",
       "      <td>...</td>\n",
       "      <td>...</td>\n",
       "      <td>...</td>\n",
       "      <td>...</td>\n",
       "      <td>...</td>\n",
       "      <td>...</td>\n",
       "      <td>...</td>\n",
       "      <td>...</td>\n",
       "      <td>...</td>\n",
       "      <td>...</td>\n",
       "    </tr>\n",
       "    <tr>\n",
       "      <th>239670</th>\n",
       "      <td>1081752</td>\n",
       "      <td>2018-03-31</td>\n",
       "      <td>Illinois</td>\n",
       "      <td>Chicago</td>\n",
       "      <td>1 block of N Paulina St</td>\n",
       "      <td>0</td>\n",
       "      <td>1</td>\n",
       "      <td>8.001265</td>\n",
       "      <td>0::Unknown</td>\n",
       "      <td>NaN</td>\n",
       "      <td>37.546598</td>\n",
       "      <td>-89.338348</td>\n",
       "      <td>1.000000</td>\n",
       "      <td>0::36</td>\n",
       "      <td>0::Adult 18+||1::Adult 18+</td>\n",
       "      <td>0::Male||1::Male</td>\n",
       "      <td>0::Injured||1::Unharmed</td>\n",
       "      <td>0::Victim||1::Subject-Suspect</td>\n",
       "      <td>55.447132</td>\n",
       "      <td>20.47711</td>\n",
       "    </tr>\n",
       "    <tr>\n",
       "      <th>239673</th>\n",
       "      <td>1083139</td>\n",
       "      <td>2018-03-31</td>\n",
       "      <td>Louisiana</td>\n",
       "      <td>Natchitoches</td>\n",
       "      <td>247 Keyser Ave</td>\n",
       "      <td>1</td>\n",
       "      <td>0</td>\n",
       "      <td>4.000000</td>\n",
       "      <td>0::Unknown</td>\n",
       "      <td>NaN</td>\n",
       "      <td>31.753700</td>\n",
       "      <td>-93.083600</td>\n",
       "      <td>1.000000</td>\n",
       "      <td>1::21</td>\n",
       "      <td>0::Adult 18+||1::Adult 18+</td>\n",
       "      <td>0::Male||1::Male</td>\n",
       "      <td>0::Killed||1::Unharmed, Arrested</td>\n",
       "      <td>0::Victim||1::Subject-Suspect</td>\n",
       "      <td>23.000000</td>\n",
       "      <td>31.00000</td>\n",
       "    </tr>\n",
       "    <tr>\n",
       "      <th>239674</th>\n",
       "      <td>1083151</td>\n",
       "      <td>2018-03-31</td>\n",
       "      <td>Louisiana</td>\n",
       "      <td>Gretna</td>\n",
       "      <td>1300 block of Cook Street</td>\n",
       "      <td>0</td>\n",
       "      <td>1</td>\n",
       "      <td>2.000000</td>\n",
       "      <td>0::Unknown</td>\n",
       "      <td>NaN</td>\n",
       "      <td>29.923900</td>\n",
       "      <td>-90.044200</td>\n",
       "      <td>1.000000</td>\n",
       "      <td>0::21</td>\n",
       "      <td>0::Adult 18+</td>\n",
       "      <td>0::Male</td>\n",
       "      <td>0::Injured</td>\n",
       "      <td>0::Victim</td>\n",
       "      <td>85.000000</td>\n",
       "      <td>7.00000</td>\n",
       "    </tr>\n",
       "    <tr>\n",
       "      <th>239675</th>\n",
       "      <td>1082514</td>\n",
       "      <td>2018-03-31</td>\n",
       "      <td>Texas</td>\n",
       "      <td>Houston</td>\n",
       "      <td>12630 Ashford Point Dr</td>\n",
       "      <td>1</td>\n",
       "      <td>0</td>\n",
       "      <td>9.000000</td>\n",
       "      <td>0::Unknown</td>\n",
       "      <td>NaN</td>\n",
       "      <td>29.720100</td>\n",
       "      <td>-95.611000</td>\n",
       "      <td>1.000000</td>\n",
       "      <td>0::42</td>\n",
       "      <td>0::Adult 18+</td>\n",
       "      <td>0::Male</td>\n",
       "      <td>0::Killed</td>\n",
       "      <td>0::Victim</td>\n",
       "      <td>149.000000</td>\n",
       "      <td>17.00000</td>\n",
       "    </tr>\n",
       "    <tr>\n",
       "      <th>239676</th>\n",
       "      <td>1081940</td>\n",
       "      <td>2018-03-31</td>\n",
       "      <td>Maine</td>\n",
       "      <td>Norridgewock</td>\n",
       "      <td>434 Skowhegan Rd</td>\n",
       "      <td>2</td>\n",
       "      <td>0</td>\n",
       "      <td>2.000000</td>\n",
       "      <td>0::Unknown||1::Unknown</td>\n",
       "      <td>0::Handgun||1::Shotgun</td>\n",
       "      <td>44.729300</td>\n",
       "      <td>-69.769100</td>\n",
       "      <td>2.000000</td>\n",
       "      <td>0::58||1::62</td>\n",
       "      <td>0::Adult 18+||1::Adult 18+</td>\n",
       "      <td>0::Female||1::Male</td>\n",
       "      <td>0::Killed||1::Killed</td>\n",
       "      <td>0::Victim||1::Subject-Suspect</td>\n",
       "      <td>111.000000</td>\n",
       "      <td>3.00000</td>\n",
       "    </tr>\n",
       "  </tbody>\n",
       "</table>\n",
       "<p>142390 rows × 20 columns</p>\n",
       "</div>"
      ],
      "text/plain": [
       "        incident_id       date           state city_or_county  \\\n",
       "0            461105 2013-01-01    Pennsylvania     Mckeesport   \n",
       "1            460726 2013-01-01      California      Hawthorne   \n",
       "2            478855 2013-01-01            Ohio         Lorain   \n",
       "3            478925 2013-01-05        Colorado         Aurora   \n",
       "4            478959 2013-01-07  North Carolina     Greensboro   \n",
       "...             ...        ...             ...            ...   \n",
       "239670      1081752 2018-03-31        Illinois        Chicago   \n",
       "239673      1083139 2018-03-31       Louisiana   Natchitoches   \n",
       "239674      1083151 2018-03-31       Louisiana         Gretna   \n",
       "239675      1082514 2018-03-31           Texas        Houston   \n",
       "239676      1081940 2018-03-31           Maine   Norridgewock   \n",
       "\n",
       "                                          address  n_killed  n_injured  \\\n",
       "0       1506 Versailles Avenue and Coursin Street         0          4   \n",
       "1                    13500 block of Cerise Avenue         1          3   \n",
       "2                           1776 East 28th Street         1          3   \n",
       "3                16000 block of East Ithaca Place         4          0   \n",
       "4                       307 Mourning Dove Terrace         2          2   \n",
       "...                                           ...       ...        ...   \n",
       "239670                    1 block of N Paulina St         0          1   \n",
       "239673                             247 Keyser Ave         1          0   \n",
       "239674                  1300 block of Cook Street         0          1   \n",
       "239675                     12630 Ashford Point Dr         1          0   \n",
       "239676                           434 Skowhegan Rd         2          0   \n",
       "\n",
       "        congressional_district              gun_stolen  \\\n",
       "0                    14.000000                     NaN   \n",
       "1                    43.000000                     NaN   \n",
       "2                     9.000000  0::Unknown||1::Unknown   \n",
       "3                     6.000000                     NaN   \n",
       "4                     6.000000  0::Unknown||1::Unknown   \n",
       "...                        ...                     ...   \n",
       "239670                8.001265              0::Unknown   \n",
       "239673                4.000000              0::Unknown   \n",
       "239674                2.000000              0::Unknown   \n",
       "239675                9.000000              0::Unknown   \n",
       "239676                2.000000  0::Unknown||1::Unknown   \n",
       "\n",
       "                      gun_type   latitude   longitude  n_guns_involved  \\\n",
       "0                          NaN  40.346700  -79.855900         1.372442   \n",
       "1                          NaN  33.909000 -118.333000         1.372442   \n",
       "2                          NaN  41.445500  -82.137700         2.000000   \n",
       "3                          NaN  39.651800 -104.802000         1.372442   \n",
       "4       0::Handgun||1::Handgun  36.114000  -79.956900         2.000000   \n",
       "...                        ...        ...         ...              ...   \n",
       "239670                     NaN  37.546598  -89.338348         1.000000   \n",
       "239673                     NaN  31.753700  -93.083600         1.000000   \n",
       "239674                     NaN  29.923900  -90.044200         1.000000   \n",
       "239675                     NaN  29.720100  -95.611000         1.000000   \n",
       "239676  0::Handgun||1::Shotgun  44.729300  -69.769100         2.000000   \n",
       "\n",
       "                          participant_age  \\\n",
       "0                                   0::20   \n",
       "1                                   0::20   \n",
       "2       0::25||1::31||2::33||3::34||4::33   \n",
       "3              0::29||1::33||2::56||3::33   \n",
       "4              0::18||1::46||2::14||3::47   \n",
       "...                                   ...   \n",
       "239670                              0::36   \n",
       "239673                              1::21   \n",
       "239674                              0::21   \n",
       "239675                              0::42   \n",
       "239676                       0::58||1::62   \n",
       "\n",
       "                                    participant_age_group  \\\n",
       "0       0::Adult 18+||1::Adult 18+||2::Adult 18+||3::A...   \n",
       "1       0::Adult 18+||1::Adult 18+||2::Adult 18+||3::A...   \n",
       "2       0::Adult 18+||1::Adult 18+||2::Adult 18+||3::A...   \n",
       "3       0::Adult 18+||1::Adult 18+||2::Adult 18+||3::A...   \n",
       "4       0::Adult 18+||1::Adult 18+||2::Teen 12-17||3::...   \n",
       "...                                                   ...   \n",
       "239670                         0::Adult 18+||1::Adult 18+   \n",
       "239673                         0::Adult 18+||1::Adult 18+   \n",
       "239674                                       0::Adult 18+   \n",
       "239675                                       0::Adult 18+   \n",
       "239676                         0::Adult 18+||1::Adult 18+   \n",
       "\n",
       "                                 participant_gender  \\\n",
       "0              0::Male||1::Male||3::Male||4::Female   \n",
       "1                                           0::Male   \n",
       "2       0::Male||1::Male||2::Male||3::Male||4::Male   \n",
       "3              0::Female||1::Male||2::Male||3::Male   \n",
       "4            0::Female||1::Male||2::Male||3::Female   \n",
       "...                                             ...   \n",
       "239670                             0::Male||1::Male   \n",
       "239673                             0::Male||1::Male   \n",
       "239674                                      0::Male   \n",
       "239675                                      0::Male   \n",
       "239676                           0::Female||1::Male   \n",
       "\n",
       "                                       participant_status  \\\n",
       "0       0::Arrested||1::Injured||2::Injured||3::Injure...   \n",
       "1           0::Killed||1::Injured||2::Injured||3::Injured   \n",
       "2       0::Injured, Unharmed, Arrested||1::Unharmed, A...   \n",
       "3              0::Killed||1::Killed||2::Killed||3::Killed   \n",
       "4            0::Injured||1::Injured||2::Killed||3::Killed   \n",
       "...                                                   ...   \n",
       "239670                            0::Injured||1::Unharmed   \n",
       "239673                   0::Killed||1::Unharmed, Arrested   \n",
       "239674                                         0::Injured   \n",
       "239675                                          0::Killed   \n",
       "239676                               0::Killed||1::Killed   \n",
       "\n",
       "                                         participant_type  \\\n",
       "0       0::Victim||1::Victim||2::Victim||3::Victim||4:...   \n",
       "1       0::Victim||1::Victim||2::Victim||3::Victim||4:...   \n",
       "2       0::Subject-Suspect||1::Subject-Suspect||2::Vic...   \n",
       "3       0::Victim||1::Victim||2::Victim||3::Subject-Su...   \n",
       "4       0::Victim||1::Victim||2::Victim||3::Subject-Su...   \n",
       "...                                                   ...   \n",
       "239670                      0::Victim||1::Subject-Suspect   \n",
       "239673                      0::Victim||1::Subject-Suspect   \n",
       "239674                                          0::Victim   \n",
       "239675                                          0::Victim   \n",
       "239676                      0::Victim||1::Subject-Suspect   \n",
       "\n",
       "        state_house_district  state_senate_district  \n",
       "0                  55.447132               20.47711  \n",
       "1                  62.000000               35.00000  \n",
       "2                  56.000000               13.00000  \n",
       "3                  40.000000               28.00000  \n",
       "4                  62.000000               27.00000  \n",
       "...                      ...                    ...  \n",
       "239670             55.447132               20.47711  \n",
       "239673             23.000000               31.00000  \n",
       "239674             85.000000                7.00000  \n",
       "239675            149.000000               17.00000  \n",
       "239676            111.000000                3.00000  \n",
       "\n",
       "[142390 rows x 20 columns]"
      ]
     },
     "execution_count": 121,
     "metadata": {},
     "output_type": "execute_result"
    }
   ],
   "source": [
    "# Replacing any values with 'unknown' in the cell with NaN\n",
    "df['gun_type'] = df['gun_type'].mask(df['gun_type'].str.contains('Unknown', na=False), np.nan)\n",
    "df['date'] = pd.to_datetime(df['date']) #YYYY-MM-DD\n",
    "\n",
    "df[(df['n_injured'] != 0) | (df['n_killed'] != 0)].copy() \n",
    "#Removing all rows where both fields are 0"
   ]
  },
  {
   "cell_type": "markdown",
   "id": "05f4193d-d460-435f-a667-03c9f51f94e8",
   "metadata": {},
   "source": [
    "## Rechecking Missing Values"
   ]
  },
  {
   "cell_type": "code",
   "execution_count": 123,
   "id": "dc32d542-63b9-4a3e-8f1f-f2966cbb79df",
   "metadata": {},
   "outputs": [
    {
     "name": "stdout",
     "output_type": "stream",
     "text": [
      "incident_id                    0\n",
      "date                           0\n",
      "state                          0\n",
      "city_or_county                 0\n",
      "address                    16497\n",
      "n_killed                       0\n",
      "n_injured                      0\n",
      "congressional_district         0\n",
      "gun_stolen                 99498\n",
      "gun_type                  198630\n",
      "latitude                       0\n",
      "longitude                      0\n",
      "n_guns_involved                0\n",
      "participant_age            92298\n",
      "participant_age_group      42119\n",
      "participant_gender         36362\n",
      "participant_status         27626\n",
      "participant_type           24863\n",
      "state_house_district           0\n",
      "state_senate_district          0\n",
      "dtype: int64\n"
     ]
    }
   ],
   "source": [
    "print(df.isnull().sum())"
   ]
  },
  {
   "cell_type": "code",
   "execution_count": 124,
   "id": "daf2a49a-87bc-43cb-a89f-a0d7e624c683",
   "metadata": {},
   "outputs": [
    {
     "data": {
      "text/html": [
       "<div>\n",
       "<style scoped>\n",
       "    .dataframe tbody tr th:only-of-type {\n",
       "        vertical-align: middle;\n",
       "    }\n",
       "\n",
       "    .dataframe tbody tr th {\n",
       "        vertical-align: top;\n",
       "    }\n",
       "\n",
       "    .dataframe thead th {\n",
       "        text-align: right;\n",
       "    }\n",
       "</style>\n",
       "<table border=\"1\" class=\"dataframe\">\n",
       "  <thead>\n",
       "    <tr style=\"text-align: right;\">\n",
       "      <th></th>\n",
       "      <th>count</th>\n",
       "      <th>mean</th>\n",
       "      <th>min</th>\n",
       "      <th>25%</th>\n",
       "      <th>50%</th>\n",
       "      <th>75%</th>\n",
       "      <th>max</th>\n",
       "      <th>std</th>\n",
       "    </tr>\n",
       "  </thead>\n",
       "  <tbody>\n",
       "    <tr>\n",
       "      <th>incident_id</th>\n",
       "      <td>239677.0</td>\n",
       "      <td>559334.346404</td>\n",
       "      <td>92114.0</td>\n",
       "      <td>308545.0</td>\n",
       "      <td>543587.0</td>\n",
       "      <td>817228.0</td>\n",
       "      <td>1083472.0</td>\n",
       "      <td>293128.684285</td>\n",
       "    </tr>\n",
       "    <tr>\n",
       "      <th>date</th>\n",
       "      <td>239677</td>\n",
       "      <td>2016-03-13 00:26:19.645940480</td>\n",
       "      <td>2013-01-01 00:00:00</td>\n",
       "      <td>2015-03-07 00:00:00</td>\n",
       "      <td>2016-04-05 00:00:00</td>\n",
       "      <td>2017-04-03 00:00:00</td>\n",
       "      <td>2018-03-31 00:00:00</td>\n",
       "      <td>NaN</td>\n",
       "    </tr>\n",
       "    <tr>\n",
       "      <th>n_killed</th>\n",
       "      <td>239677.0</td>\n",
       "      <td>0.25229</td>\n",
       "      <td>0.0</td>\n",
       "      <td>0.0</td>\n",
       "      <td>0.0</td>\n",
       "      <td>0.0</td>\n",
       "      <td>50.0</td>\n",
       "      <td>0.521779</td>\n",
       "    </tr>\n",
       "    <tr>\n",
       "      <th>n_injured</th>\n",
       "      <td>239677.0</td>\n",
       "      <td>0.494007</td>\n",
       "      <td>0.0</td>\n",
       "      <td>0.0</td>\n",
       "      <td>0.0</td>\n",
       "      <td>1.0</td>\n",
       "      <td>53.0</td>\n",
       "      <td>0.729952</td>\n",
       "    </tr>\n",
       "    <tr>\n",
       "      <th>congressional_district</th>\n",
       "      <td>239677.0</td>\n",
       "      <td>8.001265</td>\n",
       "      <td>0.0</td>\n",
       "      <td>2.0</td>\n",
       "      <td>5.0</td>\n",
       "      <td>10.0</td>\n",
       "      <td>53.0</td>\n",
       "      <td>8.266818</td>\n",
       "    </tr>\n",
       "    <tr>\n",
       "      <th>latitude</th>\n",
       "      <td>239677.0</td>\n",
       "      <td>37.546598</td>\n",
       "      <td>19.1114</td>\n",
       "      <td>33.9852</td>\n",
       "      <td>38.1818</td>\n",
       "      <td>41.2851</td>\n",
       "      <td>71.3368</td>\n",
       "      <td>5.045246</td>\n",
       "    </tr>\n",
       "    <tr>\n",
       "      <th>longitude</th>\n",
       "      <td>239677.0</td>\n",
       "      <td>-89.338348</td>\n",
       "      <td>-171.429</td>\n",
       "      <td>-93.6009</td>\n",
       "      <td>-86.7674</td>\n",
       "      <td>-80.1367</td>\n",
       "      <td>97.4331</td>\n",
       "      <td>14.120208</td>\n",
       "    </tr>\n",
       "    <tr>\n",
       "      <th>n_guns_involved</th>\n",
       "      <td>239677.0</td>\n",
       "      <td>1.372442</td>\n",
       "      <td>1.0</td>\n",
       "      <td>1.0</td>\n",
       "      <td>1.0</td>\n",
       "      <td>1.372442</td>\n",
       "      <td>400.0</td>\n",
       "      <td>3.578322</td>\n",
       "    </tr>\n",
       "    <tr>\n",
       "      <th>state_house_district</th>\n",
       "      <td>239677.0</td>\n",
       "      <td>55.447132</td>\n",
       "      <td>1.0</td>\n",
       "      <td>27.0</td>\n",
       "      <td>55.447132</td>\n",
       "      <td>77.0</td>\n",
       "      <td>901.0</td>\n",
       "      <td>38.497149</td>\n",
       "    </tr>\n",
       "    <tr>\n",
       "      <th>state_senate_district</th>\n",
       "      <td>239677.0</td>\n",
       "      <td>20.47711</td>\n",
       "      <td>1.0</td>\n",
       "      <td>10.0</td>\n",
       "      <td>20.47711</td>\n",
       "      <td>29.0</td>\n",
       "      <td>94.0</td>\n",
       "      <td>13.211681</td>\n",
       "    </tr>\n",
       "  </tbody>\n",
       "</table>\n",
       "</div>"
      ],
      "text/plain": [
       "                           count                           mean  \\\n",
       "incident_id             239677.0                  559334.346404   \n",
       "date                      239677  2016-03-13 00:26:19.645940480   \n",
       "n_killed                239677.0                        0.25229   \n",
       "n_injured               239677.0                       0.494007   \n",
       "congressional_district  239677.0                       8.001265   \n",
       "latitude                239677.0                      37.546598   \n",
       "longitude               239677.0                     -89.338348   \n",
       "n_guns_involved         239677.0                       1.372442   \n",
       "state_house_district    239677.0                      55.447132   \n",
       "state_senate_district   239677.0                       20.47711   \n",
       "\n",
       "                                        min                  25%  \\\n",
       "incident_id                         92114.0             308545.0   \n",
       "date                    2013-01-01 00:00:00  2015-03-07 00:00:00   \n",
       "n_killed                                0.0                  0.0   \n",
       "n_injured                               0.0                  0.0   \n",
       "congressional_district                  0.0                  2.0   \n",
       "latitude                            19.1114              33.9852   \n",
       "longitude                          -171.429             -93.6009   \n",
       "n_guns_involved                         1.0                  1.0   \n",
       "state_house_district                    1.0                 27.0   \n",
       "state_senate_district                   1.0                 10.0   \n",
       "\n",
       "                                        50%                  75%  \\\n",
       "incident_id                        543587.0             817228.0   \n",
       "date                    2016-04-05 00:00:00  2017-04-03 00:00:00   \n",
       "n_killed                                0.0                  0.0   \n",
       "n_injured                               0.0                  1.0   \n",
       "congressional_district                  5.0                 10.0   \n",
       "latitude                            38.1818              41.2851   \n",
       "longitude                          -86.7674             -80.1367   \n",
       "n_guns_involved                         1.0             1.372442   \n",
       "state_house_district              55.447132                 77.0   \n",
       "state_senate_district              20.47711                 29.0   \n",
       "\n",
       "                                        max            std  \n",
       "incident_id                       1083472.0  293128.684285  \n",
       "date                    2018-03-31 00:00:00            NaN  \n",
       "n_killed                               50.0       0.521779  \n",
       "n_injured                              53.0       0.729952  \n",
       "congressional_district                 53.0       8.266818  \n",
       "latitude                            71.3368       5.045246  \n",
       "longitude                           97.4331      14.120208  \n",
       "n_guns_involved                       400.0       3.578322  \n",
       "state_house_district                  901.0      38.497149  \n",
       "state_senate_district                  94.0      13.211681  "
      ]
     },
     "execution_count": 124,
     "metadata": {},
     "output_type": "execute_result"
    }
   ],
   "source": [
    "# Statictics analysis\n",
    "df.describe().T"
   ]
  },
  {
   "cell_type": "markdown",
   "id": "326385e3-5941-4a4b-9eac-980a1ebdeba4",
   "metadata": {},
   "source": [
    "## Converting Data Types"
   ]
  },
  {
   "cell_type": "code",
   "execution_count": 126,
   "id": "4e494afd-d686-4a8b-879e-ff594159bc2b",
   "metadata": {},
   "outputs": [
    {
     "data": {
      "text/plain": [
       "incident_id                        int64\n",
       "date                      datetime64[ns]\n",
       "state                             object\n",
       "city_or_county                    object\n",
       "address                           object\n",
       "n_killed                           int64\n",
       "n_injured                          int64\n",
       "congressional_district           float64\n",
       "gun_stolen                        object\n",
       "gun_type                          object\n",
       "latitude                         float64\n",
       "longitude                        float64\n",
       "n_guns_involved                  float64\n",
       "participant_age                   object\n",
       "participant_age_group             object\n",
       "participant_gender                object\n",
       "participant_status                object\n",
       "participant_type                  object\n",
       "state_house_district             float64\n",
       "state_senate_district            float64\n",
       "dtype: object"
      ]
     },
     "execution_count": 126,
     "metadata": {},
     "output_type": "execute_result"
    }
   ],
   "source": [
    "# Convert date column to datetime type\n",
    "df['date'] = pd.to_datetime(df['date'])\n",
    "\n",
    "# Display the updated data types\n",
    "df.dtypes"
   ]
  },
  {
   "cell_type": "markdown",
   "id": "a3c505a9-3fd8-404b-8e38-75f74d1faea8",
   "metadata": {},
   "source": [
    "## Consistency Check"
   ]
  },
  {
   "cell_type": "code",
   "execution_count": 128,
   "id": "b7c5db6b-b7b1-4c86-b5e3-4d3dddd76ee6",
   "metadata": {},
   "outputs": [
    {
     "name": "stdout",
     "output_type": "stream",
     "text": [
      "Unique values in state: ['Pennsylvania' 'California' 'Ohio' 'Colorado' 'North Carolina' 'Oklahoma'\n",
      " 'New Mexico' 'Louisiana' 'Maryland' 'Tennessee' 'Missouri'\n",
      " 'District of Columbia' 'Illinois' 'Delaware' 'Utah' 'Michigan' 'Georgia'\n",
      " 'Indiana' 'Mississippi' 'New York' 'Florida' 'Washington'\n",
      " 'South Carolina' 'Arizona' 'Kentucky' 'New Jersey' 'Virginia' 'Wisconsin'\n",
      " 'Rhode Island' 'Texas' 'Alabama' 'Kansas' 'Connecticut' 'West Virginia'\n",
      " 'Minnesota' 'Nevada' 'Nebraska' 'Massachusetts' 'Hawaii' 'New Hampshire'\n",
      " 'Iowa' 'Alaska' 'Arkansas' 'Idaho' 'Oregon' 'Wyoming' 'Maine'\n",
      " 'North Dakota' 'Montana' 'Vermont' 'South Dakota']\n",
      "Unique values in city_or_county: ['Mckeesport' 'Hawthorne' 'Lorain' ... 'Montgomery Creek'\n",
      " 'Chaffee (Allenville)' 'St Paul']\n"
     ]
    }
   ],
   "source": [
    "# Display unique values for categorical columns\n",
    "for col in ['state', 'city_or_county']:\n",
    "    print(f\"Unique values in {col}: {df[col].unique()}\")\n",
    "\n",
    "# Convert state and city_or_county to title case for consistency\n",
    "df['state'] = df['state'].str.title()\n",
    "df['city_or_county'] = df['city_or_county'].str.title()\n"
   ]
  },
  {
   "cell_type": "markdown",
   "id": "24f98fc2-9305-42cf-ae3f-2bcc2da0db2f",
   "metadata": {},
   "source": [
    "## Outlier Detection & Handling"
   ]
  },
  {
   "cell_type": "code",
   "execution_count": 130,
   "id": "729f3eed-752a-4642-8140-3b7404d4aadb",
   "metadata": {},
   "outputs": [
    {
     "data": {
      "image/png": "[encoded data removed]",
      "text/plain": [
       "<Figure size 1000x600 with 1 Axes>"
      ]
     },
     "metadata": {},
     "output_type": "display_data"
    }
   ],
   "source": [
    "# Plot boxplot for numerical columns to detect outliers\n",
    "plt.figure(figsize=(10, 6))\n",
    "sns.boxplot(data=df[['n_killed', 'n_injured']])\n",
    "plt.title('Boxplot for Killed and Injured')\n",
    "plt.show()\n",
    "\n",
    "# Handling outliers by capping values\n",
    "# You can choose appropriate thresholds based on your data distribution\n",
    "threshold = df['n_killed'].quantile(0.99)\n",
    "df['n_killed'] = np.where(df['n_killed'] > threshold, threshold, df['n_killed'])\n",
    "threshold = df['n_injured'].quantile(0.99)\n",
    "df['n_injured'] = np.where(df['n_injured'] > threshold, threshold, df['n_injured'])\n"
   ]
  },
  {
   "cell_type": "code",
   "execution_count": 131,
   "id": "b0fa1094-c97b-4ba7-bd1a-aea0bac54936",
   "metadata": {},
   "outputs": [],
   "source": [
    "# Assign df to a new variable called data_cleaned\n",
    "data_cleaned = df"
   ]
  },
  {
   "cell_type": "code",
   "execution_count": 132,
   "id": "0f6e3e80-962b-456a-8979-21b63ced6f3c",
   "metadata": {},
   "outputs": [
    {
     "data": {
      "text/html": [
       "<div>\n",
       "<style scoped>\n",
       "    .dataframe tbody tr th:only-of-type {\n",
       "        vertical-align: middle;\n",
       "    }\n",
       "\n",
       "    .dataframe tbody tr th {\n",
       "        vertical-align: top;\n",
       "    }\n",
       "\n",
       "    .dataframe thead th {\n",
       "        text-align: right;\n",
       "    }\n",
       "</style>\n",
       "<table border=\"1\" class=\"dataframe\">\n",
       "  <thead>\n",
       "    <tr style=\"text-align: right;\">\n",
       "      <th></th>\n",
       "      <th>incident_id</th>\n",
       "      <th>date</th>\n",
       "      <th>state</th>\n",
       "      <th>city_or_county</th>\n",
       "      <th>address</th>\n",
       "      <th>n_killed</th>\n",
       "      <th>n_injured</th>\n",
       "      <th>congressional_district</th>\n",
       "      <th>gun_stolen</th>\n",
       "      <th>gun_type</th>\n",
       "      <th>latitude</th>\n",
       "      <th>longitude</th>\n",
       "      <th>n_guns_involved</th>\n",
       "      <th>participant_age</th>\n",
       "      <th>participant_age_group</th>\n",
       "      <th>participant_gender</th>\n",
       "      <th>participant_status</th>\n",
       "      <th>participant_type</th>\n",
       "      <th>state_house_district</th>\n",
       "      <th>state_senate_district</th>\n",
       "    </tr>\n",
       "  </thead>\n",
       "  <tbody>\n",
       "    <tr>\n",
       "      <th>0</th>\n",
       "      <td>461105</td>\n",
       "      <td>2013-01-01</td>\n",
       "      <td>Pennsylvania</td>\n",
       "      <td>Mckeesport</td>\n",
       "      <td>1506 Versailles Avenue and Coursin Street</td>\n",
       "      <td>0.0</td>\n",
       "      <td>3.0</td>\n",
       "      <td>14.0</td>\n",
       "      <td>NaN</td>\n",
       "      <td>NaN</td>\n",
       "      <td>40.3467</td>\n",
       "      <td>-79.8559</td>\n",
       "      <td>1.372442</td>\n",
       "      <td>0::20</td>\n",
       "      <td>0::Adult 18+||1::Adult 18+||2::Adult 18+||3::A...</td>\n",
       "      <td>0::Male||1::Male||3::Male||4::Female</td>\n",
       "      <td>0::Arrested||1::Injured||2::Injured||3::Injure...</td>\n",
       "      <td>0::Victim||1::Victim||2::Victim||3::Victim||4:...</td>\n",
       "      <td>55.447132</td>\n",
       "      <td>20.47711</td>\n",
       "    </tr>\n",
       "    <tr>\n",
       "      <th>1</th>\n",
       "      <td>460726</td>\n",
       "      <td>2013-01-01</td>\n",
       "      <td>California</td>\n",
       "      <td>Hawthorne</td>\n",
       "      <td>13500 block of Cerise Avenue</td>\n",
       "      <td>1.0</td>\n",
       "      <td>3.0</td>\n",
       "      <td>43.0</td>\n",
       "      <td>NaN</td>\n",
       "      <td>NaN</td>\n",
       "      <td>33.9090</td>\n",
       "      <td>-118.3330</td>\n",
       "      <td>1.372442</td>\n",
       "      <td>0::20</td>\n",
       "      <td>0::Adult 18+||1::Adult 18+||2::Adult 18+||3::A...</td>\n",
       "      <td>0::Male</td>\n",
       "      <td>0::Killed||1::Injured||2::Injured||3::Injured</td>\n",
       "      <td>0::Victim||1::Victim||2::Victim||3::Victim||4:...</td>\n",
       "      <td>62.000000</td>\n",
       "      <td>35.00000</td>\n",
       "    </tr>\n",
       "    <tr>\n",
       "      <th>2</th>\n",
       "      <td>478855</td>\n",
       "      <td>2013-01-01</td>\n",
       "      <td>Ohio</td>\n",
       "      <td>Lorain</td>\n",
       "      <td>1776 East 28th Street</td>\n",
       "      <td>1.0</td>\n",
       "      <td>3.0</td>\n",
       "      <td>9.0</td>\n",
       "      <td>0::Unknown||1::Unknown</td>\n",
       "      <td>NaN</td>\n",
       "      <td>41.4455</td>\n",
       "      <td>-82.1377</td>\n",
       "      <td>2.000000</td>\n",
       "      <td>0::25||1::31||2::33||3::34||4::33</td>\n",
       "      <td>0::Adult 18+||1::Adult 18+||2::Adult 18+||3::A...</td>\n",
       "      <td>0::Male||1::Male||2::Male||3::Male||4::Male</td>\n",
       "      <td>0::Injured, Unharmed, Arrested||1::Unharmed, A...</td>\n",
       "      <td>0::Subject-Suspect||1::Subject-Suspect||2::Vic...</td>\n",
       "      <td>56.000000</td>\n",
       "      <td>13.00000</td>\n",
       "    </tr>\n",
       "    <tr>\n",
       "      <th>3</th>\n",
       "      <td>478925</td>\n",
       "      <td>2013-01-05</td>\n",
       "      <td>Colorado</td>\n",
       "      <td>Aurora</td>\n",
       "      <td>16000 block of East Ithaca Place</td>\n",
       "      <td>2.0</td>\n",
       "      <td>0.0</td>\n",
       "      <td>6.0</td>\n",
       "      <td>NaN</td>\n",
       "      <td>NaN</td>\n",
       "      <td>39.6518</td>\n",
       "      <td>-104.8020</td>\n",
       "      <td>1.372442</td>\n",
       "      <td>0::29||1::33||2::56||3::33</td>\n",
       "      <td>0::Adult 18+||1::Adult 18+||2::Adult 18+||3::A...</td>\n",
       "      <td>0::Female||1::Male||2::Male||3::Male</td>\n",
       "      <td>0::Killed||1::Killed||2::Killed||3::Killed</td>\n",
       "      <td>0::Victim||1::Victim||2::Victim||3::Subject-Su...</td>\n",
       "      <td>40.000000</td>\n",
       "      <td>28.00000</td>\n",
       "    </tr>\n",
       "    <tr>\n",
       "      <th>4</th>\n",
       "      <td>478959</td>\n",
       "      <td>2013-01-07</td>\n",
       "      <td>North Carolina</td>\n",
       "      <td>Greensboro</td>\n",
       "      <td>307 Mourning Dove Terrace</td>\n",
       "      <td>2.0</td>\n",
       "      <td>2.0</td>\n",
       "      <td>6.0</td>\n",
       "      <td>0::Unknown||1::Unknown</td>\n",
       "      <td>0::Handgun||1::Handgun</td>\n",
       "      <td>36.1140</td>\n",
       "      <td>-79.9569</td>\n",
       "      <td>2.000000</td>\n",
       "      <td>0::18||1::46||2::14||3::47</td>\n",
       "      <td>0::Adult 18+||1::Adult 18+||2::Teen 12-17||3::...</td>\n",
       "      <td>0::Female||1::Male||2::Male||3::Female</td>\n",
       "      <td>0::Injured||1::Injured||2::Killed||3::Killed</td>\n",
       "      <td>0::Victim||1::Victim||2::Victim||3::Subject-Su...</td>\n",
       "      <td>62.000000</td>\n",
       "      <td>27.00000</td>\n",
       "    </tr>\n",
       "  </tbody>\n",
       "</table>\n",
       "</div>"
      ],
      "text/plain": [
       "   incident_id       date           state city_or_county  \\\n",
       "0       461105 2013-01-01    Pennsylvania     Mckeesport   \n",
       "1       460726 2013-01-01      California      Hawthorne   \n",
       "2       478855 2013-01-01            Ohio         Lorain   \n",
       "3       478925 2013-01-05        Colorado         Aurora   \n",
       "4       478959 2013-01-07  North Carolina     Greensboro   \n",
       "\n",
       "                                     address  n_killed  n_injured  \\\n",
       "0  1506 Versailles Avenue and Coursin Street       0.0        3.0   \n",
       "1               13500 block of Cerise Avenue       1.0        3.0   \n",
       "2                      1776 East 28th Street       1.0        3.0   \n",
       "3           16000 block of East Ithaca Place       2.0        0.0   \n",
       "4                  307 Mourning Dove Terrace       2.0        2.0   \n",
       "\n",
       "   congressional_district              gun_stolen                gun_type  \\\n",
       "0                    14.0                     NaN                     NaN   \n",
       "1                    43.0                     NaN                     NaN   \n",
       "2                     9.0  0::Unknown||1::Unknown                     NaN   \n",
       "3                     6.0                     NaN                     NaN   \n",
       "4                     6.0  0::Unknown||1::Unknown  0::Handgun||1::Handgun   \n",
       "\n",
       "   latitude  longitude  n_guns_involved                    participant_age  \\\n",
       "0   40.3467   -79.8559         1.372442                              0::20   \n",
       "1   33.9090  -118.3330         1.372442                              0::20   \n",
       "2   41.4455   -82.1377         2.000000  0::25||1::31||2::33||3::34||4::33   \n",
       "3   39.6518  -104.8020         1.372442         0::29||1::33||2::56||3::33   \n",
       "4   36.1140   -79.9569         2.000000         0::18||1::46||2::14||3::47   \n",
       "\n",
       "                               participant_age_group  \\\n",
       "0  0::Adult 18+||1::Adult 18+||2::Adult 18+||3::A...   \n",
       "1  0::Adult 18+||1::Adult 18+||2::Adult 18+||3::A...   \n",
       "2  0::Adult 18+||1::Adult 18+||2::Adult 18+||3::A...   \n",
       "3  0::Adult 18+||1::Adult 18+||2::Adult 18+||3::A...   \n",
       "4  0::Adult 18+||1::Adult 18+||2::Teen 12-17||3::...   \n",
       "\n",
       "                            participant_gender  \\\n",
       "0         0::Male||1::Male||3::Male||4::Female   \n",
       "1                                      0::Male   \n",
       "2  0::Male||1::Male||2::Male||3::Male||4::Male   \n",
       "3         0::Female||1::Male||2::Male||3::Male   \n",
       "4       0::Female||1::Male||2::Male||3::Female   \n",
       "\n",
       "                                  participant_status  \\\n",
       "0  0::Arrested||1::Injured||2::Injured||3::Injure...   \n",
       "1      0::Killed||1::Injured||2::Injured||3::Injured   \n",
       "2  0::Injured, Unharmed, Arrested||1::Unharmed, A...   \n",
       "3         0::Killed||1::Killed||2::Killed||3::Killed   \n",
       "4       0::Injured||1::Injured||2::Killed||3::Killed   \n",
       "\n",
       "                                    participant_type  state_house_district  \\\n",
       "0  0::Victim||1::Victim||2::Victim||3::Victim||4:...             55.447132   \n",
       "1  0::Victim||1::Victim||2::Victim||3::Victim||4:...             62.000000   \n",
       "2  0::Subject-Suspect||1::Subject-Suspect||2::Vic...             56.000000   \n",
       "3  0::Victim||1::Victim||2::Victim||3::Subject-Su...             40.000000   \n",
       "4  0::Victim||1::Victim||2::Victim||3::Subject-Su...             62.000000   \n",
       "\n",
       "   state_senate_district  \n",
       "0               20.47711  \n",
       "1               35.00000  \n",
       "2               13.00000  \n",
       "3               28.00000  \n",
       "4               27.00000  "
      ]
     },
     "execution_count": 132,
     "metadata": {},
     "output_type": "execute_result"
    }
   ],
   "source": [
    "data_cleaned.head()"
   ]
  },
  {
   "cell_type": "code",
   "execution_count": 133,
   "id": "5fc36467-adce-4c12-b682-a5c5df114b00",
   "metadata": {},
   "outputs": [
    {
     "data": {
      "application/vnd.plotly.v1+json": {
       "config": {
        "plotlyServerURL": "https://plot.ly"
       },
       "data": [
        {
         "hovertemplate": "Year=%{x}<br>Number of Incidents=%{y}<extra></extra>",
         "legendgroup": "",
         "line": {
          "color": "#636efa",
          "dash": "solid"
         },
         "marker": {
          "symbol": "circle"
         },
         "mode": "lines",
         "name": "",
         "orientation": "v",
         "showlegend": false,
         "type": "scatter",
         "x": [
          2013,
          2014,
          2015,
          2016,
          2017,
          2018
         ],
         "xaxis": "x",
         "y": [
          278,
          51854,
          53579,
          58763,
          61401,
          13802
         ],
         "yaxis": "y"
        }
       ],
       "layout": {
        "autosize": true,
        "legend": {
         "tracegroupgap": 0
        },
        "template": {
         "data": {
          "bar": [
           {
            "error_x": {
             "color": "#2a3f5f"
            },
            "error_y": {
             "color": "#2a3f5f"
            },
            "marker": {
             "line": {
              "color": "#E5ECF6",
              "width": 0.5
             },
             "pattern": {
              "fillmode": "overlay",
              "size": 10,
              "solidity": 0.2
             }
            },
            "type": "bar"
           }
          ],
          "barpolar": [
           {
            "marker": {
             "line": {
              "color": "#E5ECF6",
              "width": 0.5
             },
             "pattern": {
              "fillmode": "overlay",
              "size": 10,
              "solidity": 0.2
             }
            },
            "type": "barpolar"
           }
          ],
          "carpet": [
           {
            "aaxis": {
             "endlinecolor": "#2a3f5f",
             "gridcolor": "white",
             "linecolor": "white",
             "minorgridcolor": "white",
             "startlinecolor": "#2a3f5f"
            },
            "baxis": {
             "endlinecolor": "#2a3f5f",
             "gridcolor": "white",
             "linecolor": "white",
             "minorgridcolor": "white",
             "startlinecolor": "#2a3f5f"
            },
            "type": "carpet"
           }
          ],
          "choropleth": [
           {
            "colorbar": {
             "outlinewidth": 0,
             "ticks": ""
            },
            "type": "choropleth"
           }
          ],
          "contour": [
           {
            "colorbar": {
             "outlinewidth": 0,
             "ticks": ""
            },
            "colorscale": [
             [
              0,
              "#0d0887"
             ],
             [
              0.1111111111111111,
              "#46039f"
             ],
             [
              0.2222222222222222,
              "#7201a8"
             ],
             [
              0.3333333333333333,
              "#9c179e"
             ],
             [
              0.4444444444444444,
              "#bd3786"
             ],
             [
              0.5555555555555556,
              "#d8576b"
             ],
             [
              0.6666666666666666,
              "#ed7953"
             ],
             [
              0.7777777777777778,
              "#fb9f3a"
             ],
             [
              0.8888888888888888,
              "#fdca26"
             ],
             [
              1,
              "#f0f921"
             ]
            ],
            "type": "contour"
           }
          ],
          "contourcarpet": [
           {
            "colorbar": {
             "outlinewidth": 0,
             "ticks": ""
            },
            "type": "contourcarpet"
           }
          ],
          "heatmap": [
           {
            "colorbar": {
             "outlinewidth": 0,
             "ticks": ""
            },
            "colorscale": [
             [
              0,
              "#0d0887"
             ],
             [
              0.1111111111111111,
              "#46039f"
             ],
             [
              0.2222222222222222,
              "#7201a8"
             ],
             [
              0.3333333333333333,
              "#9c179e"
             ],
             [
              0.4444444444444444,
              "#bd3786"
             ],
             [
              0.5555555555555556,
              "#d8576b"
             ],
             [
              0.6666666666666666,
              "#ed7953"
             ],
             [
              0.7777777777777778,
              "#fb9f3a"
             ],
             [
              0.8888888888888888,
              "#fdca26"
             ],
             [
              1,
              "#f0f921"
             ]
            ],
            "type": "heatmap"
           }
          ],
          "heatmapgl": [
           {
            "colorbar": {
             "outlinewidth": 0,
             "ticks": ""
            },
            "colorscale": [
             [
              0,
              "#0d0887"
             ],
             [
              0.1111111111111111,
              "#46039f"
             ],
             [
              0.2222222222222222,
              "#7201a8"
             ],
             [
              0.3333333333333333,
              "#9c179e"
             ],
             [
              0.4444444444444444,
              "#bd3786"
             ],
             [
              0.5555555555555556,
              "#d8576b"
             ],
             [
              0.6666666666666666,
              "#ed7953"
             ],
             [
              0.7777777777777778,
              "#fb9f3a"
             ],
             [
              0.8888888888888888,
              "#fdca26"
             ],
             [
              1,
              "#f0f921"
             ]
            ],
            "type": "heatmapgl"
           }
          ],
          "histogram": [
           {
            "marker": {
             "pattern": {
              "fillmode": "overlay",
              "size": 10,
              "solidity": 0.2
             }
            },
            "type": "histogram"
           }
          ],
          "histogram2d": [
           {
            "colorbar": {
             "outlinewidth": 0,
             "ticks": ""
            },
            "colorscale": [
             [
              0,
              "#0d0887"
             ],
             [
              0.1111111111111111,
              "#46039f"
             ],
             [
              0.2222222222222222,
              "#7201a8"
             ],
             [
              0.3333333333333333,
              "#9c179e"
             ],
             [
              0.4444444444444444,
              "#bd3786"
             ],
             [
              0.5555555555555556,
              "#d8576b"
             ],
             [
              0.6666666666666666,
              "#ed7953"
             ],
             [
              0.7777777777777778,
              "#fb9f3a"
             ],
             [
              0.8888888888888888,
              "#fdca26"
             ],
             [
              1,
              "#f0f921"
             ]
            ],
            "type": "histogram2d"
           }
          ],
          "histogram2dcontour": [
           {
            "colorbar": {
             "outlinewidth": 0,
             "ticks": ""
            },
            "colorscale": [
             [
              0,
              "#0d0887"
             ],
             [
              0.1111111111111111,
              "#46039f"
             ],
             [
              0.2222222222222222,
              "#7201a8"
             ],
             [
              0.3333333333333333,
              "#9c179e"
             ],
             [
              0.4444444444444444,
              "#bd3786"
             ],
             [
              0.5555555555555556,
              "#d8576b"
             ],
             [
              0.6666666666666666,
              "#ed7953"
             ],
             [
              0.7777777777777778,
              "#fb9f3a"
             ],
             [
              0.8888888888888888,
              "#fdca26"
             ],
             [
              1,
              "#f0f921"
             ]
            ],
            "type": "histogram2dcontour"
           }
          ],
          "mesh3d": [
           {
            "colorbar": {
             "outlinewidth": 0,
             "ticks": ""
            },
            "type": "mesh3d"
           }
          ],
          "parcoords": [
           {
            "line": {
             "colorbar": {
              "outlinewidth": 0,
              "ticks": ""
             }
            },
            "type": "parcoords"
           }
          ],
          "pie": [
           {
            "automargin": true,
            "type": "pie"
           }
          ],
          "scatter": [
           {
            "fillpattern": {
             "fillmode": "overlay",
             "size": 10,
             "solidity": 0.2
            },
            "type": "scatter"
           }
          ],
          "scatter3d": [
           {
            "line": {
             "colorbar": {
              "outlinewidth": 0,
              "ticks": ""
             }
            },
            "marker": {
             "colorbar": {
              "outlinewidth": 0,
              "ticks": ""
             }
            },
            "type": "scatter3d"
           }
          ],
          "scattercarpet": [
           {
            "marker": {
             "colorbar": {
              "outlinewidth": 0,
              "ticks": ""
             }
            },
            "type": "scattercarpet"
           }
          ],
          "scattergeo": [
           {
            "marker": {
             "colorbar": {
              "outlinewidth": 0,
              "ticks": ""
             }
            },
            "type": "scattergeo"
           }
          ],
          "scattergl": [
           {
            "marker": {
             "colorbar": {
              "outlinewidth": 0,
              "ticks": ""
             }
            },
            "type": "scattergl"
           }
          ],
          "scattermapbox": [
           {
            "marker": {
             "colorbar": {
              "outlinewidth": 0,
              "ticks": ""
             }
            },
            "type": "scattermapbox"
           }
          ],
          "scatterpolar": [
           {
            "marker": {
             "colorbar": {
              "outlinewidth": 0,
              "ticks": ""
             }
            },
            "type": "scatterpolar"
           }
          ],
          "scatterpolargl": [
           {
            "marker": {
             "colorbar": {
              "outlinewidth": 0,
              "ticks": ""
             }
            },
            "type": "scatterpolargl"
           }
          ],
          "scatterternary": [
           {
            "marker": {
             "colorbar": {
              "outlinewidth": 0,
              "ticks": ""
             }
            },
            "type": "scatterternary"
           }
          ],
          "surface": [
           {
            "colorbar": {
             "outlinewidth": 0,
             "ticks": ""
            },
            "colorscale": [
             [
              0,
              "#0d0887"
             ],
             [
              0.1111111111111111,
              "#46039f"
             ],
             [
              0.2222222222222222,
              "#7201a8"
             ],
             [
              0.3333333333333333,
              "#9c179e"
             ],
             [
              0.4444444444444444,
              "#bd3786"
             ],
             [
              0.5555555555555556,
              "#d8576b"
             ],
             [
              0.6666666666666666,
              "#ed7953"
             ],
             [
              0.7777777777777778,
              "#fb9f3a"
             ],
             [
              0.8888888888888888,
              "#fdca26"
             ],
             [
              1,
              "#f0f921"
             ]
            ],
            "type": "surface"
           }
          ],
          "table": [
           {
            "cells": {
             "fill": {
              "color": "#EBF0F8"
             },
             "line": {
              "color": "white"
             }
            },
            "header": {
             "fill": {
              "color": "#C8D4E3"
             },
             "line": {
              "color": "white"
             }
            },
            "type": "table"
           }
          ]
         },
         "layout": {
          "annotationdefaults": {
           "arrowcolor": "#2a3f5f",
           "arrowhead": 0,
           "arrowwidth": 1
          },
          "autotypenumbers": "strict",
          "coloraxis": {
           "colorbar": {
            "outlinewidth": 0,
            "ticks": ""
           }
          },
          "colorscale": {
           "diverging": [
            [
             0,
             "#8e0152"
            ],
            [
             0.1,
             "#c51b7d"
            ],
            [
             0.2,
             "#de77ae"
            ],
            [
             0.3,
             "#f1b6da"
            ],
            [
             0.4,
             "#fde0ef"
            ],
            [
             0.5,
             "#f7f7f7"
            ],
            [
             0.6,
             "#e6f5d0"
            ],
            [
             0.7,
             "#b8e186"
            ],
            [
             0.8,
             "#7fbc41"
            ],
            [
             0.9,
             "#4d9221"
            ],
            [
             1,
             "#276419"
            ]
           ],
           "sequential": [
            [
             0,
             "#0d0887"
            ],
            [
             0.1111111111111111,
             "#46039f"
            ],
            [
             0.2222222222222222,
             "#7201a8"
            ],
            [
             0.3333333333333333,
             "#9c179e"
            ],
            [
             0.4444444444444444,
             "#bd3786"
            ],
            [
             0.5555555555555556,
             "#d8576b"
            ],
            [
             0.6666666666666666,
             "#ed7953"
            ],
            [
             0.7777777777777778,
             "#fb9f3a"
            ],
            [
             0.8888888888888888,
             "#fdca26"
            ],
            [
             1,
             "#f0f921"
            ]
           ],
           "sequentialminus": [
            [
             0,
             "#0d0887"
            ],
            [
             0.1111111111111111,
             "#46039f"
            ],
            [
             0.2222222222222222,
             "#7201a8"
            ],
            [
             0.3333333333333333,
             "#9c179e"
            ],
            [
             0.4444444444444444,
             "#bd3786"
            ],
            [
             0.5555555555555556,
             "#d8576b"
            ],
            [
             0.6666666666666666,
             "#ed7953"
            ],
            [
             0.7777777777777778,
             "#fb9f3a"
            ],
            [
             0.8888888888888888,
             "#fdca26"
            ],
            [
             1,
             "#f0f921"
            ]
           ]
          },
          "colorway": [
           "#636efa",
           "#EF553B",
           "#00cc96",
           "#ab63fa",
           "#FFA15A",
           "#19d3f3",
           "#FF6692",
           "#B6E880",
           "#FF97FF",
           "#FECB52"
          ],
          "font": {
           "color": "#2a3f5f"
          },
          "geo": {
           "bgcolor": "white",
           "lakecolor": "white",
           "landcolor": "#E5ECF6",
           "showlakes": true,
           "showland": true,
           "subunitcolor": "white"
          },
          "hoverlabel": {
           "align": "left"
          },
          "hovermode": "closest",
          "mapbox": {
           "style": "light"
          },
          "paper_bgcolor": "white",
          "plot_bgcolor": "#E5ECF6",
          "polar": {
           "angularaxis": {
            "gridcolor": "white",
            "linecolor": "white",
            "ticks": ""
           },
           "bgcolor": "#E5ECF6",
           "radialaxis": {
            "gridcolor": "white",
            "linecolor": "white",
            "ticks": ""
           }
          },
          "scene": {
           "xaxis": {
            "backgroundcolor": "#E5ECF6",
            "gridcolor": "white",
            "gridwidth": 2,
            "linecolor": "white",
            "showbackground": true,
            "ticks": "",
            "zerolinecolor": "white"
           },
           "yaxis": {
            "backgroundcolor": "#E5ECF6",
            "gridcolor": "white",
            "gridwidth": 2,
            "linecolor": "white",
            "showbackground": true,
            "ticks": "",
            "zerolinecolor": "white"
           },
           "zaxis": {
            "backgroundcolor": "#E5ECF6",
            "gridcolor": "white",
            "gridwidth": 2,
            "linecolor": "white",
            "showbackground": true,
            "ticks": "",
            "zerolinecolor": "white"
           }
          },
          "shapedefaults": {
           "line": {
            "color": "#2a3f5f"
           }
          },
          "ternary": {
           "aaxis": {
            "gridcolor": "white",
            "linecolor": "white",
            "ticks": ""
           },
           "baxis": {
            "gridcolor": "white",
            "linecolor": "white",
            "ticks": ""
           },
           "bgcolor": "#E5ECF6",
           "caxis": {
            "gridcolor": "white",
            "linecolor": "white",
            "ticks": ""
           }
          },
          "title": {
           "x": 0.05
          },
          "xaxis": {
           "automargin": true,
           "gridcolor": "white",
           "linecolor": "white",
           "ticks": "",
           "title": {
            "standoff": 15
           },
           "zerolinecolor": "white",
           "zerolinewidth": 2
          },
          "yaxis": {
           "automargin": true,
           "gridcolor": "white",
           "linecolor": "white",
           "ticks": "",
           "title": {
            "standoff": 15
           },
           "zerolinecolor": "white",
           "zerolinewidth": 2
          }
         }
        },
        "title": {
         "text": "Annual Trends in Gun Violence Incidents"
        },
        "xaxis": {
         "anchor": "y",
         "autorange": true,
         "domain": [
          0,
          1
         ],
         "range": [
          2013,
          2018
         ],
         "title": {
          "text": "Year"
         },
         "type": "linear"
        },
        "yaxis": {
         "anchor": "x",
         "autorange": true,
         "domain": [
          0,
          1
         ],
         "range": [
          -3117.722222222222,
          64796.72222222222
         ],
         "title": {
          "text": "Number of Incidents"
         },
         "type": "linear"
        }
       }
      },
      "image/png": "[encoded data removed]",
      "text/html": [
       "<div>                            <div id=\"f193a7b9-9547-490f-840c-243e7355dc0f\" class=\"plotly-graph-div\" style=\"height:525px; width:100%;\"></div>            <script type=\"text/javascript\">                require([\"plotly\"], function(Plotly) {                    window.PLOTLYENV=window.PLOTLYENV || {};                                    if (document.getElementById(\"f193a7b9-9547-490f-840c-243e7355dc0f\")) {                    Plotly.newPlot(                        \"f193a7b9-9547-490f-840c-243e7355dc0f\",                        [{\"hovertemplate\":\"Year=%{x}<br>Number of Incidents=%{y}<extra></extra>\",\"legendgroup\":\"\",\"line\":{\"color\":\"#636efa\",\"dash\":\"solid\"},\"marker\":{\"symbol\":\"circle\"},\"mode\":\"lines\",\"name\":\"\",\"orientation\":\"v\",\"showlegend\":false,\"x\":[2013,2014,2015,2016,2017,2018],\"xaxis\":\"x\",\"y\":[278,51854,53579,58763,61401,13802],\"yaxis\":\"y\",\"type\":\"scatter\"}],                        {\"template\":{\"data\":{\"histogram2dcontour\":[{\"type\":\"histogram2dcontour\",\"colorbar\":{\"outlinewidth\":0,\"ticks\":\"\"},\"colorscale\":[[0.0,\"#0d0887\"],[0.1111111111111111,\"#46039f\"],[0.2222222222222222,\"#7201a8\"],[0.3333333333333333,\"#9c179e\"],[0.4444444444444444,\"#bd3786\"],[0.5555555555555556,\"#d8576b\"],[0.6666666666666666,\"#ed7953\"],[0.7777777777777778,\"#fb9f3a\"],[0.8888888888888888,\"#fdca26\"],[1.0,\"#f0f921\"]]}],\"choropleth\":[{\"type\":\"choropleth\",\"colorbar\":{\"outlinewidth\":0,\"ticks\":\"\"}}],\"histogram2d\":[{\"type\":\"histogram2d\",\"colorbar\":{\"outlinewidth\":0,\"ticks\":\"\"},\"colorscale\":[[0.0,\"#0d0887\"],[0.1111111111111111,\"#46039f\"],[0.2222222222222222,\"#7201a8\"],[0.3333333333333333,\"#9c179e\"],[0.4444444444444444,\"#bd3786\"],[0.5555555555555556,\"#d8576b\"],[0.6666666666666666,\"#ed7953\"],[0.7777777777777778,\"#fb9f3a\"],[0.8888888888888888,\"#fdca26\"],[1.0,\"#f0f921\"]]}],\"heatmap\":[{\"type\":\"heatmap\",\"colorbar\":{\"outlinewidth\":0,\"ticks\":\"\"},\"colorscale\":[[0.0,\"#0d0887\"],[0.1111111111111111,\"#46039f\"],[0.2222222222222222,\"#7201a8\"],[0.3333333333333333,\"#9c179e\"],[0.4444444444444444,\"#bd3786\"],[0.5555555555555556,\"#d8576b\"],[0.6666666666666666,\"#ed7953\"],[0.7777777777777778,\"#fb9f3a\"],[0.8888888888888888,\"#fdca26\"],[1.0,\"#f0f921\"]]}],\"heatmapgl\":[{\"type\":\"heatmapgl\",\"colorbar\":{\"outlinewidth\":0,\"ticks\":\"\"},\"colorscale\":[[0.0,\"#0d0887\"],[0.1111111111111111,\"#46039f\"],[0.2222222222222222,\"#7201a8\"],[0.3333333333333333,\"#9c179e\"],[0.4444444444444444,\"#bd3786\"],[0.5555555555555556,\"#d8576b\"],[0.6666666666666666,\"#ed7953\"],[0.7777777777777778,\"#fb9f3a\"],[0.8888888888888888,\"#fdca26\"],[1.0,\"#f0f921\"]]}],\"contourcarpet\":[{\"type\":\"contourcarpet\",\"colorbar\":{\"outlinewidth\":0,\"ticks\":\"\"}}],\"contour\":[{\"type\":\"contour\",\"colorbar\":{\"outlinewidth\":0,\"ticks\":\"\"},\"colorscale\":[[0.0,\"#0d0887\"],[0.1111111111111111,\"#46039f\"],[0.2222222222222222,\"#7201a8\"],[0.3333333333333333,\"#9c179e\"],[0.4444444444444444,\"#bd3786\"],[0.5555555555555556,\"#d8576b\"],[0.6666666666666666,\"#ed7953\"],[0.7777777777777778,\"#fb9f3a\"],[0.8888888888888888,\"#fdca26\"],[1.0,\"#f0f921\"]]}],\"surface\":[{\"type\":\"surface\",\"colorbar\":{\"outlinewidth\":0,\"ticks\":\"\"},\"colorscale\":[[0.0,\"#0d0887\"],[0.1111111111111111,\"#46039f\"],[0.2222222222222222,\"#7201a8\"],[0.3333333333333333,\"#9c179e\"],[0.4444444444444444,\"#bd3786\"],[0.5555555555555556,\"#d8576b\"],[0.6666666666666666,\"#ed7953\"],[0.7777777777777778,\"#fb9f3a\"],[0.8888888888888888,\"#fdca26\"],[1.0,\"#f0f921\"]]}],\"mesh3d\":[{\"type\":\"mesh3d\",\"colorbar\":{\"outlinewidth\":0,\"ticks\":\"\"}}],\"scatter\":[{\"fillpattern\":{\"fillmode\":\"overlay\",\"size\":10,\"solidity\":0.2},\"type\":\"scatter\"}],\"parcoords\":[{\"type\":\"parcoords\",\"line\":{\"colorbar\":{\"outlinewidth\":0,\"ticks\":\"\"}}}],\"scatterpolargl\":[{\"type\":\"scatterpolargl\",\"marker\":{\"colorbar\":{\"outlinewidth\":0,\"ticks\":\"\"}}}],\"bar\":[{\"error_x\":{\"color\":\"#2a3f5f\"},\"error_y\":{\"color\":\"#2a3f5f\"},\"marker\":{\"line\":{\"color\":\"#E5ECF6\",\"width\":0.5},\"pattern\":{\"fillmode\":\"overlay\",\"size\":10,\"solidity\":0.2}},\"type\":\"bar\"}],\"scattergeo\":[{\"type\":\"scattergeo\",\"marker\":{\"colorbar\":{\"outlinewidth\":0,\"ticks\":\"\"}}}],\"scatterpolar\":[{\"type\":\"scatterpolar\",\"marker\":{\"colorbar\":{\"outlinewidth\":0,\"ticks\":\"\"}}}],\"histogram\":[{\"marker\":{\"pattern\":{\"fillmode\":\"overlay\",\"size\":10,\"solidity\":0.2}},\"type\":\"histogram\"}],\"scattergl\":[{\"type\":\"scattergl\",\"marker\":{\"colorbar\":{\"outlinewidth\":0,\"ticks\":\"\"}}}],\"scatter3d\":[{\"type\":\"scatter3d\",\"line\":{\"colorbar\":{\"outlinewidth\":0,\"ticks\":\"\"}},\"marker\":{\"colorbar\":{\"outlinewidth\":0,\"ticks\":\"\"}}}],\"scattermapbox\":[{\"type\":\"scattermapbox\",\"marker\":{\"colorbar\":{\"outlinewidth\":0,\"ticks\":\"\"}}}],\"scatterternary\":[{\"type\":\"scatterternary\",\"marker\":{\"colorbar\":{\"outlinewidth\":0,\"ticks\":\"\"}}}],\"scattercarpet\":[{\"type\":\"scattercarpet\",\"marker\":{\"colorbar\":{\"outlinewidth\":0,\"ticks\":\"\"}}}],\"carpet\":[{\"aaxis\":{\"endlinecolor\":\"#2a3f5f\",\"gridcolor\":\"white\",\"linecolor\":\"white\",\"minorgridcolor\":\"white\",\"startlinecolor\":\"#2a3f5f\"},\"baxis\":{\"endlinecolor\":\"#2a3f5f\",\"gridcolor\":\"white\",\"linecolor\":\"white\",\"minorgridcolor\":\"white\",\"startlinecolor\":\"#2a3f5f\"},\"type\":\"carpet\"}],\"table\":[{\"cells\":{\"fill\":{\"color\":\"#EBF0F8\"},\"line\":{\"color\":\"white\"}},\"header\":{\"fill\":{\"color\":\"#C8D4E3\"},\"line\":{\"color\":\"white\"}},\"type\":\"table\"}],\"barpolar\":[{\"marker\":{\"line\":{\"color\":\"#E5ECF6\",\"width\":0.5},\"pattern\":{\"fillmode\":\"overlay\",\"size\":10,\"solidity\":0.2}},\"type\":\"barpolar\"}],\"pie\":[{\"automargin\":true,\"type\":\"pie\"}]},\"layout\":{\"autotypenumbers\":\"strict\",\"colorway\":[\"#636efa\",\"#EF553B\",\"#00cc96\",\"#ab63fa\",\"#FFA15A\",\"#19d3f3\",\"#FF6692\",\"#B6E880\",\"#FF97FF\",\"#FECB52\"],\"font\":{\"color\":\"#2a3f5f\"},\"hovermode\":\"closest\",\"hoverlabel\":{\"align\":\"left\"},\"paper_bgcolor\":\"white\",\"plot_bgcolor\":\"#E5ECF6\",\"polar\":{\"bgcolor\":\"#E5ECF6\",\"angularaxis\":{\"gridcolor\":\"white\",\"linecolor\":\"white\",\"ticks\":\"\"},\"radialaxis\":{\"gridcolor\":\"white\",\"linecolor\":\"white\",\"ticks\":\"\"}},\"ternary\":{\"bgcolor\":\"#E5ECF6\",\"aaxis\":{\"gridcolor\":\"white\",\"linecolor\":\"white\",\"ticks\":\"\"},\"baxis\":{\"gridcolor\":\"white\",\"linecolor\":\"white\",\"ticks\":\"\"},\"caxis\":{\"gridcolor\":\"white\",\"linecolor\":\"white\",\"ticks\":\"\"}},\"coloraxis\":{\"colorbar\":{\"outlinewidth\":0,\"ticks\":\"\"}},\"colorscale\":{\"sequential\":[[0.0,\"#0d0887\"],[0.1111111111111111,\"#46039f\"],[0.2222222222222222,\"#7201a8\"],[0.3333333333333333,\"#9c179e\"],[0.4444444444444444,\"#bd3786\"],[0.5555555555555556,\"#d8576b\"],[0.6666666666666666,\"#ed7953\"],[0.7777777777777778,\"#fb9f3a\"],[0.8888888888888888,\"#fdca26\"],[1.0,\"#f0f921\"]],\"sequentialminus\":[[0.0,\"#0d0887\"],[0.1111111111111111,\"#46039f\"],[0.2222222222222222,\"#7201a8\"],[0.3333333333333333,\"#9c179e\"],[0.4444444444444444,\"#bd3786\"],[0.5555555555555556,\"#d8576b\"],[0.6666666666666666,\"#ed7953\"],[0.7777777777777778,\"#fb9f3a\"],[0.8888888888888888,\"#fdca26\"],[1.0,\"#f0f921\"]],\"diverging\":[[0,\"#8e0152\"],[0.1,\"#c51b7d\"],[0.2,\"#de77ae\"],[0.3,\"#f1b6da\"],[0.4,\"#fde0ef\"],[0.5,\"#f7f7f7\"],[0.6,\"#e6f5d0\"],[0.7,\"#b8e186\"],[0.8,\"#7fbc41\"],[0.9,\"#4d9221\"],[1,\"#276419\"]]},\"xaxis\":{\"gridcolor\":\"white\",\"linecolor\":\"white\",\"ticks\":\"\",\"title\":{\"standoff\":15},\"zerolinecolor\":\"white\",\"automargin\":true,\"zerolinewidth\":2},\"yaxis\":{\"gridcolor\":\"white\",\"linecolor\":\"white\",\"ticks\":\"\",\"title\":{\"standoff\":15},\"zerolinecolor\":\"white\",\"automargin\":true,\"zerolinewidth\":2},\"scene\":{\"xaxis\":{\"backgroundcolor\":\"#E5ECF6\",\"gridcolor\":\"white\",\"linecolor\":\"white\",\"showbackground\":true,\"ticks\":\"\",\"zerolinecolor\":\"white\",\"gridwidth\":2},\"yaxis\":{\"backgroundcolor\":\"#E5ECF6\",\"gridcolor\":\"white\",\"linecolor\":\"white\",\"showbackground\":true,\"ticks\":\"\",\"zerolinecolor\":\"white\",\"gridwidth\":2},\"zaxis\":{\"backgroundcolor\":\"#E5ECF6\",\"gridcolor\":\"white\",\"linecolor\":\"white\",\"showbackground\":true,\"ticks\":\"\",\"zerolinecolor\":\"white\",\"gridwidth\":2}},\"shapedefaults\":{\"line\":{\"color\":\"#2a3f5f\"}},\"annotationdefaults\":{\"arrowcolor\":\"#2a3f5f\",\"arrowhead\":0,\"arrowwidth\":1},\"geo\":{\"bgcolor\":\"white\",\"landcolor\":\"#E5ECF6\",\"subunitcolor\":\"white\",\"showland\":true,\"showlakes\":true,\"lakecolor\":\"white\"},\"title\":{\"x\":0.05},\"mapbox\":{\"style\":\"light\"}}},\"xaxis\":{\"anchor\":\"y\",\"domain\":[0.0,1.0],\"title\":{\"text\":\"Year\"}},\"yaxis\":{\"anchor\":\"x\",\"domain\":[0.0,1.0],\"title\":{\"text\":\"Number of Incidents\"}},\"legend\":{\"tracegroupgap\":0},\"title\":{\"text\":\"Annual Trends in Gun Violence Incidents\"}},                        {\"responsive\": true}                    ).then(function(){\n",
       "                            \n",
       "var gd = document.getElementById('f193a7b9-9547-490f-840c-243e7355dc0f');\n",
       "var x = new MutationObserver(function (mutations, observer) {{\n",
       "        var display = window.getComputedStyle(gd).display;\n",
       "        if (!display || display === 'none') {{\n",
       "            console.log([gd, 'removed!']);\n",
       "            Plotly.purge(gd);\n",
       "            observer.disconnect();\n",
       "        }}\n",
       "}});\n",
       "\n",
       "// Listen for the removal of the full notebook cells\n",
       "var notebookContainer = gd.closest('#notebook-container');\n",
       "if (notebookContainer) {{\n",
       "    x.observe(notebookContainer, {childList: true});\n",
       "}}\n",
       "\n",
       "// Listen for the clearing of the current output cell\n",
       "var outputEl = gd.closest('.output');\n",
       "if (outputEl) {{\n",
       "    x.observe(outputEl, {childList: true});\n",
       "}}\n",
       "\n",
       "                        })                };                });            </script>        </div>"
      ]
     },
     "metadata": {},
     "output_type": "display_data"
    }
   ],
   "source": [
    "# Extract the year from the incident_date to analyze annual trends\n",
    "data_cleaned['year'] = data_cleaned['date'].dt.year\n",
    "\n",
    "# Group data by year and count incidents\n",
    "yearly_counts = data_cleaned.groupby('year').size().reset_index(name='count')\n",
    "\n",
    "# Visualizing the trend\n",
    "fig = px.line(yearly_counts, x='year', y='count', title='Annual Trends in Gun Violence Incidents',\n",
    "              labels={'count': 'Number of Incidents', 'year': 'Year'})\n",
    "fig.show()"
   ]
  },
  {
   "cell_type": "markdown",
   "id": "a23e0c90-2f25-4cbb-b4f4-494321a3bcc3",
   "metadata": {},
   "source": [
    "## Save Cleaned Data"
   ]
  },
  {
   "cell_type": "code",
   "execution_count": 135,
   "id": "4709b8cb-bb88-440d-9700-87e1e2e92027",
   "metadata": {},
   "outputs": [],
   "source": [
    "path = r'/Users/obinwannealisigwe/Desktop/Advanced Analytics/Gun Violence/Data/Prepared Data'"
   ]
  },
  {
   "cell_type": "code",
   "execution_count": 136,
   "id": "3544ecd6-6340-475b-bdbb-c7fbb852d09a",
   "metadata": {},
   "outputs": [],
   "source": [
    "data_cleaned.to_csv(os.path.join(path,'prepared.csv'))"
   ]
  },
  {
   "cell_type": "code",
   "execution_count": 137,
   "id": "4936ee2b-ee61-471f-86c6-c946766e809b",
   "metadata": {},
   "outputs": [],
   "source": [
    "# Save the cleaned dataset to a new CSV file\n",
    "data_cleaned.to_csv('gun_violence_data_cleaned.csv', index=False)"
   ]
  },
  {
   "cell_type": "code",
   "execution_count": null,
   "id": "f1b5ac72-8c71-4217-8e7c-f77ac858c023",
   "metadata": {},
   "outputs": [],
   "source": []
  }
 ],
 "metadata": {
  "kernelspec": {
   "display_name": "Python 3 (ipykernel)",
   "language": "python",
   "name": "python3"
  },
  "language_info": {
   "codemirror_mode": {
    "name": "ipython",
    "version": 3
   },
   "file_extension": ".py",
   "mimetype": "text/x-python",
   "name": "python",
   "nbconvert_exporter": "python",
   "pygments_lexer": "ipython3",
   "version": "3.11.7"
  }
 },
 "nbformat": 4,
 "nbformat_minor": 5
}
